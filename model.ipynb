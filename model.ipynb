{
 "cells": [
  {
   "cell_type": "markdown",
   "id": "9a212b6f-ac38-4505-a7af-c71b15de9611",
   "metadata": {
    "jp-MarkdownHeadingCollapsed": true
   },
   "source": [
    "## Breast Cancer Diagnosis Prediction"
   ]
  },
  {
   "cell_type": "code",
   "execution_count": 138,
   "id": "c10db4b8-7cd4-42d0-9355-07114f30beba",
   "metadata": {},
   "outputs": [],
   "source": [
    "##Importing necessary libraries\n",
    "import pandas as pd\n",
    "import numpy as np\n",
    "import matplotlib.pyplot as plt\n",
    "import seaborn as sns\n",
    "sns.set()"
   ]
  },
  {
   "cell_type": "code",
   "execution_count": 139,
   "id": "364c88b0-726b-47e1-bb46-40ebae19054c",
   "metadata": {},
   "outputs": [],
   "source": [
    "data = pd.read_csv('training.csv')"
   ]
  },
  {
   "cell_type": "code",
   "execution_count": 140,
   "id": "7b472e1f-e75e-4354-af90-daa9168edb7b",
   "metadata": {},
   "outputs": [],
   "source": [
    "pd.set_option('display.max_rows',None)\n",
    "pd.set_option('display.max_columns',None)"
   ]
  },
  {
   "cell_type": "code",
   "execution_count": 141,
   "id": "f9be4a3f-676f-44a3-9cdf-c675893de07d",
   "metadata": {},
   "outputs": [
    {
     "data": {
      "text/html": [
       "<div>\n",
       "<style scoped>\n",
       "    .dataframe tbody tr th:only-of-type {\n",
       "        vertical-align: middle;\n",
       "    }\n",
       "\n",
       "    .dataframe tbody tr th {\n",
       "        vertical-align: top;\n",
       "    }\n",
       "\n",
       "    .dataframe thead th {\n",
       "        text-align: right;\n",
       "    }\n",
       "</style>\n",
       "<table border=\"1\" class=\"dataframe\">\n",
       "  <thead>\n",
       "    <tr style=\"text-align: right;\">\n",
       "      <th></th>\n",
       "      <th>patient_id</th>\n",
       "      <th>patient_race</th>\n",
       "      <th>payer_type</th>\n",
       "      <th>patient_state</th>\n",
       "      <th>patient_zip3</th>\n",
       "      <th>patient_age</th>\n",
       "      <th>patient_gender</th>\n",
       "      <th>bmi</th>\n",
       "      <th>breast_cancer_diagnosis_code</th>\n",
       "      <th>breast_cancer_diagnosis_desc</th>\n",
       "      <th>metastatic_cancer_diagnosis_code</th>\n",
       "      <th>metastatic_first_novel_treatment</th>\n",
       "      <th>metastatic_first_novel_treatment_type</th>\n",
       "      <th>Region</th>\n",
       "      <th>Division</th>\n",
       "      <th>population</th>\n",
       "      <th>density</th>\n",
       "      <th>age_median</th>\n",
       "      <th>age_under_10</th>\n",
       "      <th>age_10_to_19</th>\n",
       "      <th>age_20s</th>\n",
       "      <th>age_30s</th>\n",
       "      <th>age_40s</th>\n",
       "      <th>age_50s</th>\n",
       "      <th>age_60s</th>\n",
       "      <th>age_70s</th>\n",
       "      <th>age_over_80</th>\n",
       "      <th>male</th>\n",
       "      <th>female</th>\n",
       "      <th>married</th>\n",
       "      <th>divorced</th>\n",
       "      <th>never_married</th>\n",
       "      <th>widowed</th>\n",
       "      <th>family_size</th>\n",
       "      <th>family_dual_income</th>\n",
       "      <th>income_household_median</th>\n",
       "      <th>income_household_under_5</th>\n",
       "      <th>income_household_5_to_10</th>\n",
       "      <th>income_household_10_to_15</th>\n",
       "      <th>income_household_15_to_20</th>\n",
       "      <th>income_household_20_to_25</th>\n",
       "      <th>income_household_25_to_35</th>\n",
       "      <th>income_household_35_to_50</th>\n",
       "      <th>income_household_50_to_75</th>\n",
       "      <th>income_household_75_to_100</th>\n",
       "      <th>income_household_100_to_150</th>\n",
       "      <th>income_household_150_over</th>\n",
       "      <th>income_household_six_figure</th>\n",
       "      <th>income_individual_median</th>\n",
       "      <th>home_ownership</th>\n",
       "      <th>housing_units</th>\n",
       "      <th>home_value</th>\n",
       "      <th>rent_median</th>\n",
       "      <th>rent_burden</th>\n",
       "      <th>education_less_highschool</th>\n",
       "      <th>education_highschool</th>\n",
       "      <th>education_some_college</th>\n",
       "      <th>education_bachelors</th>\n",
       "      <th>education_graduate</th>\n",
       "      <th>education_college_or_above</th>\n",
       "      <th>education_stem_degree</th>\n",
       "      <th>labor_force_participation</th>\n",
       "      <th>unemployment_rate</th>\n",
       "      <th>self_employed</th>\n",
       "      <th>farmer</th>\n",
       "      <th>race_white</th>\n",
       "      <th>race_black</th>\n",
       "      <th>race_asian</th>\n",
       "      <th>race_native</th>\n",
       "      <th>race_pacific</th>\n",
       "      <th>race_other</th>\n",
       "      <th>race_multiple</th>\n",
       "      <th>hispanic</th>\n",
       "      <th>disabled</th>\n",
       "      <th>poverty</th>\n",
       "      <th>limited_english</th>\n",
       "      <th>commute_time</th>\n",
       "      <th>health_uninsured</th>\n",
       "      <th>veteran</th>\n",
       "      <th>Ozone</th>\n",
       "      <th>PM25</th>\n",
       "      <th>N02</th>\n",
       "      <th>DiagPeriodL90D</th>\n",
       "    </tr>\n",
       "  </thead>\n",
       "  <tbody>\n",
       "    <tr>\n",
       "      <th>0</th>\n",
       "      <td>475714</td>\n",
       "      <td>NaN</td>\n",
       "      <td>MEDICAID</td>\n",
       "      <td>CA</td>\n",
       "      <td>924</td>\n",
       "      <td>84</td>\n",
       "      <td>F</td>\n",
       "      <td>NaN</td>\n",
       "      <td>C50919</td>\n",
       "      <td>Malignant neoplasm of unsp site of unspecified...</td>\n",
       "      <td>C7989</td>\n",
       "      <td>NaN</td>\n",
       "      <td>NaN</td>\n",
       "      <td>West</td>\n",
       "      <td>Pacific</td>\n",
       "      <td>31437.75000</td>\n",
       "      <td>1189.562500</td>\n",
       "      <td>30.642857</td>\n",
       "      <td>16.014286</td>\n",
       "      <td>15.542857</td>\n",
       "      <td>17.614286</td>\n",
       "      <td>14.014286</td>\n",
       "      <td>11.614286</td>\n",
       "      <td>11.557143</td>\n",
       "      <td>7.571429</td>\n",
       "      <td>4.000000</td>\n",
       "      <td>2.100000</td>\n",
       "      <td>49.857143</td>\n",
       "      <td>50.142857</td>\n",
       "      <td>36.571429</td>\n",
       "      <td>11.885714</td>\n",
       "      <td>47.114286</td>\n",
       "      <td>4.442857</td>\n",
       "      <td>3.928571</td>\n",
       "      <td>52.228571</td>\n",
       "      <td>52996.28571</td>\n",
       "      <td>3.142857</td>\n",
       "      <td>4.000000</td>\n",
       "      <td>6.157143</td>\n",
       "      <td>5.142857</td>\n",
       "      <td>6.271429</td>\n",
       "      <td>10.142857</td>\n",
       "      <td>13.300000</td>\n",
       "      <td>20.000000</td>\n",
       "      <td>12.742857</td>\n",
       "      <td>11.571429</td>\n",
       "      <td>7.528571</td>\n",
       "      <td>19.100000</td>\n",
       "      <td>24563.57143</td>\n",
       "      <td>44.585714</td>\n",
       "      <td>8674.500000</td>\n",
       "      <td>2.646343e+05</td>\n",
       "      <td>1165.000000</td>\n",
       "      <td>37.442857</td>\n",
       "      <td>33.257143</td>\n",
       "      <td>29.200000</td>\n",
       "      <td>25.914286</td>\n",
       "      <td>8.357143</td>\n",
       "      <td>3.257143</td>\n",
       "      <td>11.614286</td>\n",
       "      <td>39.557143</td>\n",
       "      <td>61.528571</td>\n",
       "      <td>8.471429</td>\n",
       "      <td>13.428571</td>\n",
       "      <td>0.000000</td>\n",
       "      <td>44.100000</td>\n",
       "      <td>13.100000</td>\n",
       "      <td>5.100000</td>\n",
       "      <td>1.485714</td>\n",
       "      <td>0.342857</td>\n",
       "      <td>27.114286</td>\n",
       "      <td>8.757143</td>\n",
       "      <td>66.685714</td>\n",
       "      <td>12.871429</td>\n",
       "      <td>22.542857</td>\n",
       "      <td>10.100000</td>\n",
       "      <td>27.814286</td>\n",
       "      <td>11.200000</td>\n",
       "      <td>3.500000</td>\n",
       "      <td>52.237210</td>\n",
       "      <td>8.650555</td>\n",
       "      <td>18.606528</td>\n",
       "      <td>1</td>\n",
       "    </tr>\n",
       "    <tr>\n",
       "      <th>1</th>\n",
       "      <td>349367</td>\n",
       "      <td>White</td>\n",
       "      <td>COMMERCIAL</td>\n",
       "      <td>CA</td>\n",
       "      <td>928</td>\n",
       "      <td>62</td>\n",
       "      <td>F</td>\n",
       "      <td>28.49</td>\n",
       "      <td>C50411</td>\n",
       "      <td>Malig neoplm of upper-outer quadrant of right ...</td>\n",
       "      <td>C773</td>\n",
       "      <td>NaN</td>\n",
       "      <td>NaN</td>\n",
       "      <td>West</td>\n",
       "      <td>Pacific</td>\n",
       "      <td>39121.87879</td>\n",
       "      <td>2295.939394</td>\n",
       "      <td>38.200000</td>\n",
       "      <td>11.878788</td>\n",
       "      <td>13.354545</td>\n",
       "      <td>14.230303</td>\n",
       "      <td>13.418182</td>\n",
       "      <td>13.333333</td>\n",
       "      <td>14.060606</td>\n",
       "      <td>10.248485</td>\n",
       "      <td>5.951515</td>\n",
       "      <td>3.503030</td>\n",
       "      <td>49.893939</td>\n",
       "      <td>50.106061</td>\n",
       "      <td>50.245455</td>\n",
       "      <td>9.827273</td>\n",
       "      <td>35.290909</td>\n",
       "      <td>4.651515</td>\n",
       "      <td>3.622727</td>\n",
       "      <td>61.736364</td>\n",
       "      <td>102741.63640</td>\n",
       "      <td>2.327273</td>\n",
       "      <td>1.536364</td>\n",
       "      <td>2.648485</td>\n",
       "      <td>2.178788</td>\n",
       "      <td>2.409091</td>\n",
       "      <td>5.163636</td>\n",
       "      <td>7.972727</td>\n",
       "      <td>13.936364</td>\n",
       "      <td>12.469697</td>\n",
       "      <td>19.760606</td>\n",
       "      <td>29.596970</td>\n",
       "      <td>49.357576</td>\n",
       "      <td>41287.27273</td>\n",
       "      <td>61.463636</td>\n",
       "      <td>11725.666670</td>\n",
       "      <td>6.776885e+05</td>\n",
       "      <td>2003.125000</td>\n",
       "      <td>34.753125</td>\n",
       "      <td>14.230303</td>\n",
       "      <td>19.987879</td>\n",
       "      <td>29.796970</td>\n",
       "      <td>23.739394</td>\n",
       "      <td>12.245455</td>\n",
       "      <td>35.984848</td>\n",
       "      <td>47.918182</td>\n",
       "      <td>65.230303</td>\n",
       "      <td>5.103030</td>\n",
       "      <td>15.224242</td>\n",
       "      <td>0.027273</td>\n",
       "      <td>54.030303</td>\n",
       "      <td>2.527273</td>\n",
       "      <td>20.827273</td>\n",
       "      <td>0.587879</td>\n",
       "      <td>0.300000</td>\n",
       "      <td>11.645455</td>\n",
       "      <td>10.081818</td>\n",
       "      <td>37.948485</td>\n",
       "      <td>8.957576</td>\n",
       "      <td>10.109091</td>\n",
       "      <td>8.057576</td>\n",
       "      <td>30.606061</td>\n",
       "      <td>7.018182</td>\n",
       "      <td>4.103030</td>\n",
       "      <td>42.301121</td>\n",
       "      <td>8.487175</td>\n",
       "      <td>20.113179</td>\n",
       "      <td>1</td>\n",
       "    </tr>\n",
       "    <tr>\n",
       "      <th>2</th>\n",
       "      <td>138632</td>\n",
       "      <td>White</td>\n",
       "      <td>COMMERCIAL</td>\n",
       "      <td>TX</td>\n",
       "      <td>760</td>\n",
       "      <td>43</td>\n",
       "      <td>F</td>\n",
       "      <td>38.09</td>\n",
       "      <td>C50112</td>\n",
       "      <td>Malignant neoplasm of central portion of left ...</td>\n",
       "      <td>C773</td>\n",
       "      <td>NaN</td>\n",
       "      <td>NaN</td>\n",
       "      <td>South</td>\n",
       "      <td>West South Central</td>\n",
       "      <td>21996.68333</td>\n",
       "      <td>626.236667</td>\n",
       "      <td>37.906667</td>\n",
       "      <td>13.028333</td>\n",
       "      <td>14.463333</td>\n",
       "      <td>12.531667</td>\n",
       "      <td>13.545000</td>\n",
       "      <td>12.860000</td>\n",
       "      <td>12.770000</td>\n",
       "      <td>11.426667</td>\n",
       "      <td>6.565000</td>\n",
       "      <td>2.811667</td>\n",
       "      <td>50.123333</td>\n",
       "      <td>49.876667</td>\n",
       "      <td>55.753333</td>\n",
       "      <td>12.330000</td>\n",
       "      <td>27.195000</td>\n",
       "      <td>4.710000</td>\n",
       "      <td>3.260667</td>\n",
       "      <td>55.801667</td>\n",
       "      <td>85984.74138</td>\n",
       "      <td>2.483333</td>\n",
       "      <td>1.305000</td>\n",
       "      <td>2.716667</td>\n",
       "      <td>2.938333</td>\n",
       "      <td>2.766667</td>\n",
       "      <td>6.763333</td>\n",
       "      <td>12.061667</td>\n",
       "      <td>15.835000</td>\n",
       "      <td>13.560000</td>\n",
       "      <td>20.875000</td>\n",
       "      <td>18.680000</td>\n",
       "      <td>39.555000</td>\n",
       "      <td>40399.03333</td>\n",
       "      <td>72.745000</td>\n",
       "      <td>7786.583333</td>\n",
       "      <td>2.377131e+05</td>\n",
       "      <td>1235.907407</td>\n",
       "      <td>29.358491</td>\n",
       "      <td>10.811667</td>\n",
       "      <td>27.038333</td>\n",
       "      <td>32.368333</td>\n",
       "      <td>19.678333</td>\n",
       "      <td>10.115000</td>\n",
       "      <td>29.793333</td>\n",
       "      <td>37.308475</td>\n",
       "      <td>66.428333</td>\n",
       "      <td>4.560000</td>\n",
       "      <td>13.722034</td>\n",
       "      <td>3.650847</td>\n",
       "      <td>75.820000</td>\n",
       "      <td>9.231667</td>\n",
       "      <td>3.618333</td>\n",
       "      <td>0.463333</td>\n",
       "      <td>0.146667</td>\n",
       "      <td>3.816667</td>\n",
       "      <td>6.898333</td>\n",
       "      <td>19.370000</td>\n",
       "      <td>11.253333</td>\n",
       "      <td>9.663333</td>\n",
       "      <td>3.356667</td>\n",
       "      <td>31.394915</td>\n",
       "      <td>15.066667</td>\n",
       "      <td>7.446667</td>\n",
       "      <td>40.108207</td>\n",
       "      <td>7.642753</td>\n",
       "      <td>14.839351</td>\n",
       "      <td>1</td>\n",
       "    </tr>\n",
       "    <tr>\n",
       "      <th>3</th>\n",
       "      <td>617843</td>\n",
       "      <td>White</td>\n",
       "      <td>COMMERCIAL</td>\n",
       "      <td>CA</td>\n",
       "      <td>926</td>\n",
       "      <td>45</td>\n",
       "      <td>F</td>\n",
       "      <td>NaN</td>\n",
       "      <td>C50212</td>\n",
       "      <td>Malig neoplasm of upper-inner quadrant of left...</td>\n",
       "      <td>C773</td>\n",
       "      <td>NaN</td>\n",
       "      <td>NaN</td>\n",
       "      <td>West</td>\n",
       "      <td>Pacific</td>\n",
       "      <td>32795.32558</td>\n",
       "      <td>1896.220930</td>\n",
       "      <td>42.871429</td>\n",
       "      <td>10.071429</td>\n",
       "      <td>12.135714</td>\n",
       "      <td>12.538095</td>\n",
       "      <td>12.464286</td>\n",
       "      <td>12.650000</td>\n",
       "      <td>14.847619</td>\n",
       "      <td>12.280952</td>\n",
       "      <td>8.216667</td>\n",
       "      <td>4.759524</td>\n",
       "      <td>49.066667</td>\n",
       "      <td>50.933333</td>\n",
       "      <td>52.604762</td>\n",
       "      <td>11.623810</td>\n",
       "      <td>31.142857</td>\n",
       "      <td>4.623810</td>\n",
       "      <td>3.098095</td>\n",
       "      <td>54.564286</td>\n",
       "      <td>120533.83330</td>\n",
       "      <td>3.435714</td>\n",
       "      <td>1.273810</td>\n",
       "      <td>2.180952</td>\n",
       "      <td>2.211905</td>\n",
       "      <td>2.100000</td>\n",
       "      <td>4.380952</td>\n",
       "      <td>5.885714</td>\n",
       "      <td>10.897619</td>\n",
       "      <td>10.721429</td>\n",
       "      <td>18.850000</td>\n",
       "      <td>38.057143</td>\n",
       "      <td>56.907143</td>\n",
       "      <td>55336.28571</td>\n",
       "      <td>59.221429</td>\n",
       "      <td>12171.302330</td>\n",
       "      <td>1.012474e+06</td>\n",
       "      <td>2354.738095</td>\n",
       "      <td>32.030952</td>\n",
       "      <td>5.835714</td>\n",
       "      <td>12.145238</td>\n",
       "      <td>26.269048</td>\n",
       "      <td>33.285714</td>\n",
       "      <td>22.459524</td>\n",
       "      <td>55.745238</td>\n",
       "      <td>48.938095</td>\n",
       "      <td>64.430952</td>\n",
       "      <td>5.264286</td>\n",
       "      <td>18.502381</td>\n",
       "      <td>0.052381</td>\n",
       "      <td>65.014286</td>\n",
       "      <td>1.438095</td>\n",
       "      <td>18.845238</td>\n",
       "      <td>0.430952</td>\n",
       "      <td>0.252381</td>\n",
       "      <td>5.428571</td>\n",
       "      <td>8.611905</td>\n",
       "      <td>16.716667</td>\n",
       "      <td>8.845238</td>\n",
       "      <td>8.688095</td>\n",
       "      <td>5.280952</td>\n",
       "      <td>27.561905</td>\n",
       "      <td>4.404762</td>\n",
       "      <td>4.809524</td>\n",
       "      <td>42.070075</td>\n",
       "      <td>7.229393</td>\n",
       "      <td>15.894123</td>\n",
       "      <td>0</td>\n",
       "    </tr>\n",
       "    <tr>\n",
       "      <th>4</th>\n",
       "      <td>817482</td>\n",
       "      <td>NaN</td>\n",
       "      <td>COMMERCIAL</td>\n",
       "      <td>ID</td>\n",
       "      <td>836</td>\n",
       "      <td>55</td>\n",
       "      <td>F</td>\n",
       "      <td>NaN</td>\n",
       "      <td>1749</td>\n",
       "      <td>Malignant neoplasm of breast (female), unspeci...</td>\n",
       "      <td>C773</td>\n",
       "      <td>NaN</td>\n",
       "      <td>NaN</td>\n",
       "      <td>West</td>\n",
       "      <td>Mountain</td>\n",
       "      <td>10886.26000</td>\n",
       "      <td>116.886000</td>\n",
       "      <td>43.473469</td>\n",
       "      <td>10.824000</td>\n",
       "      <td>13.976000</td>\n",
       "      <td>9.492000</td>\n",
       "      <td>10.364000</td>\n",
       "      <td>12.600000</td>\n",
       "      <td>14.992000</td>\n",
       "      <td>14.836000</td>\n",
       "      <td>9.462000</td>\n",
       "      <td>3.466000</td>\n",
       "      <td>52.312000</td>\n",
       "      <td>47.688000</td>\n",
       "      <td>57.882000</td>\n",
       "      <td>14.964000</td>\n",
       "      <td>21.760000</td>\n",
       "      <td>5.406000</td>\n",
       "      <td>3.352653</td>\n",
       "      <td>47.214286</td>\n",
       "      <td>61075.13043</td>\n",
       "      <td>2.594000</td>\n",
       "      <td>1.960000</td>\n",
       "      <td>3.168000</td>\n",
       "      <td>3.240000</td>\n",
       "      <td>4.778000</td>\n",
       "      <td>11.462000</td>\n",
       "      <td>15.656000</td>\n",
       "      <td>22.432000</td>\n",
       "      <td>12.480000</td>\n",
       "      <td>13.620000</td>\n",
       "      <td>8.606000</td>\n",
       "      <td>22.226000</td>\n",
       "      <td>29073.18367</td>\n",
       "      <td>77.098000</td>\n",
       "      <td>3768.060000</td>\n",
       "      <td>2.498457e+05</td>\n",
       "      <td>919.743590</td>\n",
       "      <td>27.029730</td>\n",
       "      <td>11.576000</td>\n",
       "      <td>29.590000</td>\n",
       "      <td>39.168000</td>\n",
       "      <td>13.978000</td>\n",
       "      <td>5.684000</td>\n",
       "      <td>19.662000</td>\n",
       "      <td>42.332653</td>\n",
       "      <td>57.488000</td>\n",
       "      <td>4.258000</td>\n",
       "      <td>13.029545</td>\n",
       "      <td>6.890909</td>\n",
       "      <td>86.712000</td>\n",
       "      <td>0.426000</td>\n",
       "      <td>0.656000</td>\n",
       "      <td>0.760000</td>\n",
       "      <td>0.108000</td>\n",
       "      <td>5.080000</td>\n",
       "      <td>6.258000</td>\n",
       "      <td>13.334000</td>\n",
       "      <td>15.276000</td>\n",
       "      <td>11.224000</td>\n",
       "      <td>1.946000</td>\n",
       "      <td>26.170213</td>\n",
       "      <td>12.088000</td>\n",
       "      <td>13.106000</td>\n",
       "      <td>41.356058</td>\n",
       "      <td>4.110749</td>\n",
       "      <td>11.722197</td>\n",
       "      <td>0</td>\n",
       "    </tr>\n",
       "  </tbody>\n",
       "</table>\n",
       "</div>"
      ],
      "text/plain": [
       "   patient_id patient_race  payer_type patient_state  patient_zip3  \\\n",
       "0      475714          NaN    MEDICAID            CA           924   \n",
       "1      349367        White  COMMERCIAL            CA           928   \n",
       "2      138632        White  COMMERCIAL            TX           760   \n",
       "3      617843        White  COMMERCIAL            CA           926   \n",
       "4      817482          NaN  COMMERCIAL            ID           836   \n",
       "\n",
       "   patient_age patient_gender    bmi breast_cancer_diagnosis_code  \\\n",
       "0           84              F    NaN                       C50919   \n",
       "1           62              F  28.49                       C50411   \n",
       "2           43              F  38.09                       C50112   \n",
       "3           45              F    NaN                       C50212   \n",
       "4           55              F    NaN                         1749   \n",
       "\n",
       "                        breast_cancer_diagnosis_desc  \\\n",
       "0  Malignant neoplasm of unsp site of unspecified...   \n",
       "1  Malig neoplm of upper-outer quadrant of right ...   \n",
       "2  Malignant neoplasm of central portion of left ...   \n",
       "3  Malig neoplasm of upper-inner quadrant of left...   \n",
       "4  Malignant neoplasm of breast (female), unspeci...   \n",
       "\n",
       "  metastatic_cancer_diagnosis_code metastatic_first_novel_treatment  \\\n",
       "0                            C7989                              NaN   \n",
       "1                             C773                              NaN   \n",
       "2                             C773                              NaN   \n",
       "3                             C773                              NaN   \n",
       "4                             C773                              NaN   \n",
       "\n",
       "  metastatic_first_novel_treatment_type Region            Division  \\\n",
       "0                                   NaN   West             Pacific   \n",
       "1                                   NaN   West             Pacific   \n",
       "2                                   NaN  South  West South Central   \n",
       "3                                   NaN   West             Pacific   \n",
       "4                                   NaN   West            Mountain   \n",
       "\n",
       "    population      density  age_median  age_under_10  age_10_to_19  \\\n",
       "0  31437.75000  1189.562500   30.642857     16.014286     15.542857   \n",
       "1  39121.87879  2295.939394   38.200000     11.878788     13.354545   \n",
       "2  21996.68333   626.236667   37.906667     13.028333     14.463333   \n",
       "3  32795.32558  1896.220930   42.871429     10.071429     12.135714   \n",
       "4  10886.26000   116.886000   43.473469     10.824000     13.976000   \n",
       "\n",
       "     age_20s    age_30s    age_40s    age_50s    age_60s   age_70s  \\\n",
       "0  17.614286  14.014286  11.614286  11.557143   7.571429  4.000000   \n",
       "1  14.230303  13.418182  13.333333  14.060606  10.248485  5.951515   \n",
       "2  12.531667  13.545000  12.860000  12.770000  11.426667  6.565000   \n",
       "3  12.538095  12.464286  12.650000  14.847619  12.280952  8.216667   \n",
       "4   9.492000  10.364000  12.600000  14.992000  14.836000  9.462000   \n",
       "\n",
       "   age_over_80       male     female    married   divorced  never_married  \\\n",
       "0     2.100000  49.857143  50.142857  36.571429  11.885714      47.114286   \n",
       "1     3.503030  49.893939  50.106061  50.245455   9.827273      35.290909   \n",
       "2     2.811667  50.123333  49.876667  55.753333  12.330000      27.195000   \n",
       "3     4.759524  49.066667  50.933333  52.604762  11.623810      31.142857   \n",
       "4     3.466000  52.312000  47.688000  57.882000  14.964000      21.760000   \n",
       "\n",
       "    widowed  family_size  family_dual_income  income_household_median  \\\n",
       "0  4.442857     3.928571           52.228571              52996.28571   \n",
       "1  4.651515     3.622727           61.736364             102741.63640   \n",
       "2  4.710000     3.260667           55.801667              85984.74138   \n",
       "3  4.623810     3.098095           54.564286             120533.83330   \n",
       "4  5.406000     3.352653           47.214286              61075.13043   \n",
       "\n",
       "   income_household_under_5  income_household_5_to_10  \\\n",
       "0                  3.142857                  4.000000   \n",
       "1                  2.327273                  1.536364   \n",
       "2                  2.483333                  1.305000   \n",
       "3                  3.435714                  1.273810   \n",
       "4                  2.594000                  1.960000   \n",
       "\n",
       "   income_household_10_to_15  income_household_15_to_20  \\\n",
       "0                   6.157143                   5.142857   \n",
       "1                   2.648485                   2.178788   \n",
       "2                   2.716667                   2.938333   \n",
       "3                   2.180952                   2.211905   \n",
       "4                   3.168000                   3.240000   \n",
       "\n",
       "   income_household_20_to_25  income_household_25_to_35  \\\n",
       "0                   6.271429                  10.142857   \n",
       "1                   2.409091                   5.163636   \n",
       "2                   2.766667                   6.763333   \n",
       "3                   2.100000                   4.380952   \n",
       "4                   4.778000                  11.462000   \n",
       "\n",
       "   income_household_35_to_50  income_household_50_to_75  \\\n",
       "0                  13.300000                  20.000000   \n",
       "1                   7.972727                  13.936364   \n",
       "2                  12.061667                  15.835000   \n",
       "3                   5.885714                  10.897619   \n",
       "4                  15.656000                  22.432000   \n",
       "\n",
       "   income_household_75_to_100  income_household_100_to_150  \\\n",
       "0                   12.742857                    11.571429   \n",
       "1                   12.469697                    19.760606   \n",
       "2                   13.560000                    20.875000   \n",
       "3                   10.721429                    18.850000   \n",
       "4                   12.480000                    13.620000   \n",
       "\n",
       "   income_household_150_over  income_household_six_figure  \\\n",
       "0                   7.528571                    19.100000   \n",
       "1                  29.596970                    49.357576   \n",
       "2                  18.680000                    39.555000   \n",
       "3                  38.057143                    56.907143   \n",
       "4                   8.606000                    22.226000   \n",
       "\n",
       "   income_individual_median  home_ownership  housing_units    home_value  \\\n",
       "0               24563.57143       44.585714    8674.500000  2.646343e+05   \n",
       "1               41287.27273       61.463636   11725.666670  6.776885e+05   \n",
       "2               40399.03333       72.745000    7786.583333  2.377131e+05   \n",
       "3               55336.28571       59.221429   12171.302330  1.012474e+06   \n",
       "4               29073.18367       77.098000    3768.060000  2.498457e+05   \n",
       "\n",
       "   rent_median  rent_burden  education_less_highschool  education_highschool  \\\n",
       "0  1165.000000    37.442857                  33.257143             29.200000   \n",
       "1  2003.125000    34.753125                  14.230303             19.987879   \n",
       "2  1235.907407    29.358491                  10.811667             27.038333   \n",
       "3  2354.738095    32.030952                   5.835714             12.145238   \n",
       "4   919.743590    27.029730                  11.576000             29.590000   \n",
       "\n",
       "   education_some_college  education_bachelors  education_graduate  \\\n",
       "0               25.914286             8.357143            3.257143   \n",
       "1               29.796970            23.739394           12.245455   \n",
       "2               32.368333            19.678333           10.115000   \n",
       "3               26.269048            33.285714           22.459524   \n",
       "4               39.168000            13.978000            5.684000   \n",
       "\n",
       "   education_college_or_above  education_stem_degree  \\\n",
       "0                   11.614286              39.557143   \n",
       "1                   35.984848              47.918182   \n",
       "2                   29.793333              37.308475   \n",
       "3                   55.745238              48.938095   \n",
       "4                   19.662000              42.332653   \n",
       "\n",
       "   labor_force_participation  unemployment_rate  self_employed    farmer  \\\n",
       "0                  61.528571           8.471429      13.428571  0.000000   \n",
       "1                  65.230303           5.103030      15.224242  0.027273   \n",
       "2                  66.428333           4.560000      13.722034  3.650847   \n",
       "3                  64.430952           5.264286      18.502381  0.052381   \n",
       "4                  57.488000           4.258000      13.029545  6.890909   \n",
       "\n",
       "   race_white  race_black  race_asian  race_native  race_pacific  race_other  \\\n",
       "0   44.100000   13.100000    5.100000     1.485714      0.342857   27.114286   \n",
       "1   54.030303    2.527273   20.827273     0.587879      0.300000   11.645455   \n",
       "2   75.820000    9.231667    3.618333     0.463333      0.146667    3.816667   \n",
       "3   65.014286    1.438095   18.845238     0.430952      0.252381    5.428571   \n",
       "4   86.712000    0.426000    0.656000     0.760000      0.108000    5.080000   \n",
       "\n",
       "   race_multiple   hispanic   disabled    poverty  limited_english  \\\n",
       "0       8.757143  66.685714  12.871429  22.542857        10.100000   \n",
       "1      10.081818  37.948485   8.957576  10.109091         8.057576   \n",
       "2       6.898333  19.370000  11.253333   9.663333         3.356667   \n",
       "3       8.611905  16.716667   8.845238   8.688095         5.280952   \n",
       "4       6.258000  13.334000  15.276000  11.224000         1.946000   \n",
       "\n",
       "   commute_time  health_uninsured    veteran      Ozone      PM25        N02  \\\n",
       "0     27.814286         11.200000   3.500000  52.237210  8.650555  18.606528   \n",
       "1     30.606061          7.018182   4.103030  42.301121  8.487175  20.113179   \n",
       "2     31.394915         15.066667   7.446667  40.108207  7.642753  14.839351   \n",
       "3     27.561905          4.404762   4.809524  42.070075  7.229393  15.894123   \n",
       "4     26.170213         12.088000  13.106000  41.356058  4.110749  11.722197   \n",
       "\n",
       "   DiagPeriodL90D  \n",
       "0               1  \n",
       "1               1  \n",
       "2               1  \n",
       "3               0  \n",
       "4               0  "
      ]
     },
     "execution_count": 141,
     "metadata": {},
     "output_type": "execute_result"
    }
   ],
   "source": [
    "data.head()"
   ]
  },
  {
   "cell_type": "code",
   "execution_count": 142,
   "id": "1ae7e20f-83e7-4cf0-873e-0940db9fce6b",
   "metadata": {},
   "outputs": [
    {
     "data": {
      "text/plain": [
       "Index(['patient_id', 'patient_race', 'payer_type', 'patient_state',\n",
       "       'patient_zip3', 'patient_age', 'patient_gender', 'bmi',\n",
       "       'breast_cancer_diagnosis_code', 'breast_cancer_diagnosis_desc',\n",
       "       'metastatic_cancer_diagnosis_code', 'metastatic_first_novel_treatment',\n",
       "       'metastatic_first_novel_treatment_type', 'Region', 'Division',\n",
       "       'population', 'density', 'age_median', 'age_under_10', 'age_10_to_19',\n",
       "       'age_20s', 'age_30s', 'age_40s', 'age_50s', 'age_60s', 'age_70s',\n",
       "       'age_over_80', 'male', 'female', 'married', 'divorced', 'never_married',\n",
       "       'widowed', 'family_size', 'family_dual_income',\n",
       "       'income_household_median', 'income_household_under_5',\n",
       "       'income_household_5_to_10', 'income_household_10_to_15',\n",
       "       'income_household_15_to_20', 'income_household_20_to_25',\n",
       "       'income_household_25_to_35', 'income_household_35_to_50',\n",
       "       'income_household_50_to_75', 'income_household_75_to_100',\n",
       "       'income_household_100_to_150', 'income_household_150_over',\n",
       "       'income_household_six_figure', 'income_individual_median',\n",
       "       'home_ownership', 'housing_units', 'home_value', 'rent_median',\n",
       "       'rent_burden', 'education_less_highschool', 'education_highschool',\n",
       "       'education_some_college', 'education_bachelors', 'education_graduate',\n",
       "       'education_college_or_above', 'education_stem_degree',\n",
       "       'labor_force_participation', 'unemployment_rate', 'self_employed',\n",
       "       'farmer', 'race_white', 'race_black', 'race_asian', 'race_native',\n",
       "       'race_pacific', 'race_other', 'race_multiple', 'hispanic', 'disabled',\n",
       "       'poverty', 'limited_english', 'commute_time', 'health_uninsured',\n",
       "       'veteran', 'Ozone', 'PM25', 'N02', 'DiagPeriodL90D'],\n",
       "      dtype='object')"
      ]
     },
     "execution_count": 142,
     "metadata": {},
     "output_type": "execute_result"
    }
   ],
   "source": [
    "data.columns"
   ]
  },
  {
   "cell_type": "code",
   "execution_count": 143,
   "id": "9f021656-470b-47c5-924b-024c224807ef",
   "metadata": {
    "scrolled": true
   },
   "outputs": [
    {
     "data": {
      "text/plain": [
       "patient_id                                   0\n",
       "metastatic_cancer_diagnosis_code             0\n",
       "breast_cancer_diagnosis_desc                 0\n",
       "breast_cancer_diagnosis_code                 0\n",
       "patient_gender                               0\n",
       "DiagPeriodL90D                               0\n",
       "patient_zip3                                 0\n",
       "patient_age                                  0\n",
       "divorced                                     1\n",
       "never_married                                1\n",
       "widowed                                      1\n",
       "race_other                                   1\n",
       "race_pacific                                 1\n",
       "race_native                                  1\n",
       "race_asian                                   1\n",
       "race_black                                   1\n",
       "race_white                                   1\n",
       "unemployment_rate                            1\n",
       "labor_force_participation                    1\n",
       "education_stem_degree                        1\n",
       "education_college_or_above                   1\n",
       "education_graduate                           1\n",
       "education_bachelors                          1\n",
       "income_individual_median                     1\n",
       "education_some_college                       1\n",
       "housing_units                                1\n",
       "education_highschool                         1\n",
       "female                                       1\n",
       "married                                      1\n",
       "age_over_80                                  1\n",
       "veteran                                      1\n",
       "health_uninsured                             1\n",
       "commute_time                                 1\n",
       "disabled                                     1\n",
       "hispanic                                     1\n",
       "race_multiple                                1\n",
       "population                                   1\n",
       "density                                      1\n",
       "male                                         1\n",
       "education_less_highschool                    1\n",
       "age_median                                   1\n",
       "age_under_10                                 1\n",
       "age_10_to_19                                 1\n",
       "age_20s                                      1\n",
       "age_30s                                      1\n",
       "age_40s                                      1\n",
       "age_50s                                      1\n",
       "age_60s                                      1\n",
       "age_70s                                      1\n",
       "poverty                                      4\n",
       "limited_english                              4\n",
       "farmer                                       4\n",
       "self_employed                                4\n",
       "income_household_75_to_100                   4\n",
       "rent_median                                  4\n",
       "family_size                                  4\n",
       "family_dual_income                           4\n",
       "rent_burden                                  4\n",
       "income_household_under_5                     4\n",
       "income_household_5_to_10                     4\n",
       "income_household_10_to_15                    4\n",
       "income_household_15_to_20                    4\n",
       "income_household_20_to_25                    4\n",
       "income_household_median                      4\n",
       "income_household_35_to_50                    4\n",
       "home_value                                   4\n",
       "home_ownership                               4\n",
       "income_household_six_figure                  4\n",
       "income_household_25_to_35                    4\n",
       "income_household_100_to_150                  4\n",
       "income_household_50_to_75                    4\n",
       "income_household_150_over                    4\n",
       "N02                                         29\n",
       "Ozone                                       29\n",
       "PM25                                        29\n",
       "patient_state                               51\n",
       "Division                                    52\n",
       "Region                                      52\n",
       "payer_type                                1803\n",
       "patient_race                              6385\n",
       "bmi                                       8965\n",
       "metastatic_first_novel_treatment         12882\n",
       "metastatic_first_novel_treatment_type    12882\n",
       "dtype: int64"
      ]
     },
     "execution_count": 143,
     "metadata": {},
     "output_type": "execute_result"
    }
   ],
   "source": [
    "data.isnull().sum().sort_values()"
   ]
  },
  {
   "cell_type": "code",
   "execution_count": 513,
   "id": "7ac8bd87-0eff-4dcb-a7a4-d7d4bbfb38df",
   "metadata": {},
   "outputs": [],
   "source": [
    "## Dropping columns with large missing alues"
   ]
  },
  {
   "cell_type": "code",
   "execution_count": 144,
   "id": "687a7ddd-df2b-44d2-a833-61c64264064e",
   "metadata": {},
   "outputs": [],
   "source": [
    "data_no_missing_columns = data.drop(['metastatic_first_novel_treatment','metastatic_first_novel_treatment_type','patient_id'], axis=1)"
   ]
  },
  {
   "cell_type": "code",
   "execution_count": 145,
   "id": "eb73099c-f975-411d-8ebd-601f4c855b2c",
   "metadata": {
    "scrolled": true
   },
   "outputs": [
    {
     "data": {
      "text/plain": [
       "patient_race                           5\n",
       "payer_type                             3\n",
       "patient_state                         50\n",
       "patient_zip3                         739\n",
       "patient_age                           67\n",
       "patient_gender                         1\n",
       "bmi                                 1342\n",
       "breast_cancer_diagnosis_code          50\n",
       "breast_cancer_diagnosis_desc          50\n",
       "metastatic_cancer_diagnosis_code      43\n",
       "Region                                 4\n",
       "Division                               9\n",
       "population                           738\n",
       "density                              738\n",
       "age_median                           728\n",
       "age_under_10                         718\n",
       "age_10_to_19                         725\n",
       "age_20s                              724\n",
       "age_30s                              725\n",
       "age_40s                              715\n",
       "age_50s                              720\n",
       "age_60s                              725\n",
       "age_70s                              720\n",
       "age_over_80                          706\n",
       "male                                 722\n",
       "female                               724\n",
       "married                              732\n",
       "divorced                             718\n",
       "never_married                        736\n",
       "widowed                              719\n",
       "family_size                          716\n",
       "family_dual_income                   731\n",
       "income_household_median              737\n",
       "income_household_under_5             712\n",
       "income_household_5_to_10             708\n",
       "income_household_10_to_15            716\n",
       "income_household_15_to_20            710\n",
       "income_household_20_to_25            716\n",
       "income_household_25_to_35            720\n",
       "income_household_35_to_50            721\n",
       "income_household_50_to_75            725\n",
       "income_household_75_to_100           714\n",
       "income_household_100_to_150          725\n",
       "income_household_150_over            734\n",
       "income_household_six_figure          734\n",
       "income_individual_median             738\n",
       "home_ownership                       737\n",
       "housing_units                        738\n",
       "home_value                           737\n",
       "rent_median                          736\n",
       "rent_burden                          725\n",
       "education_less_highschool            728\n",
       "education_highschool                 732\n",
       "education_some_college               731\n",
       "education_bachelors                  734\n",
       "education_graduate                   732\n",
       "education_college_or_above           737\n",
       "education_stem_degree                729\n",
       "labor_force_participation            733\n",
       "unemployment_rate                    714\n",
       "self_employed                        725\n",
       "farmer                               657\n",
       "race_white                           735\n",
       "race_black                           732\n",
       "race_asian                           718\n",
       "race_native                          655\n",
       "race_pacific                         506\n",
       "race_other                           713\n",
       "race_multiple                        730\n",
       "hispanic                             733\n",
       "disabled                             727\n",
       "poverty                              731\n",
       "limited_english                      715\n",
       "commute_time                         733\n",
       "health_uninsured                     727\n",
       "veteran                              727\n",
       "Ozone                                733\n",
       "PM25                                 733\n",
       "N02                                  733\n",
       "DiagPeriodL90D                         2\n",
       "dtype: int64"
      ]
     },
     "execution_count": 145,
     "metadata": {},
     "output_type": "execute_result"
    }
   ],
   "source": [
    "data_no_missing_columns.nunique()"
   ]
  },
  {
   "cell_type": "code",
   "execution_count": 146,
   "id": "5c3e109a-030d-46df-b399-9663017b58b8",
   "metadata": {},
   "outputs": [
    {
     "data": {
      "text/plain": [
       "Index(['patient_race', 'payer_type', 'patient_state', 'patient_zip3',\n",
       "       'patient_age', 'patient_gender', 'bmi', 'breast_cancer_diagnosis_code',\n",
       "       'breast_cancer_diagnosis_desc', 'metastatic_cancer_diagnosis_code',\n",
       "       'Region', 'Division', 'population', 'density', 'age_median',\n",
       "       'age_under_10', 'age_10_to_19', 'age_20s', 'age_30s', 'age_40s',\n",
       "       'age_50s', 'age_60s', 'age_70s', 'age_over_80', 'male', 'female',\n",
       "       'married', 'divorced', 'never_married', 'widowed', 'family_size',\n",
       "       'family_dual_income', 'income_household_median',\n",
       "       'income_household_under_5', 'income_household_5_to_10',\n",
       "       'income_household_10_to_15', 'income_household_15_to_20',\n",
       "       'income_household_20_to_25', 'income_household_25_to_35',\n",
       "       'income_household_35_to_50', 'income_household_50_to_75',\n",
       "       'income_household_75_to_100', 'income_household_100_to_150',\n",
       "       'income_household_150_over', 'income_household_six_figure',\n",
       "       'income_individual_median', 'home_ownership', 'housing_units',\n",
       "       'home_value', 'rent_median', 'rent_burden', 'education_less_highschool',\n",
       "       'education_highschool', 'education_some_college', 'education_bachelors',\n",
       "       'education_graduate', 'education_college_or_above',\n",
       "       'education_stem_degree', 'labor_force_participation',\n",
       "       'unemployment_rate', 'self_employed', 'farmer', 'race_white',\n",
       "       'race_black', 'race_asian', 'race_native', 'race_pacific', 'race_other',\n",
       "       'race_multiple', 'hispanic', 'disabled', 'poverty', 'limited_english',\n",
       "       'commute_time', 'health_uninsured', 'veteran', 'Ozone', 'PM25', 'N02',\n",
       "       'DiagPeriodL90D'],\n",
       "      dtype='object')"
      ]
     },
     "execution_count": 146,
     "metadata": {},
     "output_type": "execute_result"
    }
   ],
   "source": [
    "data_no_missing_columns.columns"
   ]
  },
  {
   "cell_type": "code",
   "execution_count": 147,
   "id": "1699742b-c874-4913-a837-d6075708233a",
   "metadata": {},
   "outputs": [],
   "source": [
    "## Splitting data into groups for easier analysis"
   ]
  },
  {
   "cell_type": "code",
   "execution_count": 148,
   "id": "6508f692-51d6-4bd0-9c06-925187dabc89",
   "metadata": {},
   "outputs": [],
   "source": [
    "patient_characteristics = data_no_missing_columns[['patient_race', 'payer_type', 'patient_state', 'patient_zip3',\n",
    "       'patient_age', 'patient_gender', 'bmi','breast_cancer_diagnosis_code',\n",
    "       'breast_cancer_diagnosis_desc', 'metastatic_cancer_diagnosis_code']]"
   ]
  },
  {
   "cell_type": "code",
   "execution_count": 149,
   "id": "431419c0-b03a-47f8-b5e5-6743c28dd61e",
   "metadata": {},
   "outputs": [],
   "source": [
    "patient_demographics = data_no_missing_columns[['Region', 'Division', 'population', 'density', 'age_median',\n",
    "       'age_under_10', 'age_10_to_19', 'age_20s', 'age_30s', 'age_40s',\n",
    "       'age_50s', 'age_60s', 'age_70s', 'age_over_80', 'male', 'female',\n",
    "       'married', 'divorced', 'never_married', 'widowed', 'family_size',\n",
    "       'family_dual_income', 'income_household_median',\n",
    "       'income_household_under_5', 'income_household_5_to_10',\n",
    "       'income_household_10_to_15', 'income_household_15_to_20',\n",
    "       'income_household_20_to_25', 'income_household_25_to_35',\n",
    "       'income_household_35_to_50', 'income_household_50_to_75',\n",
    "       'income_household_75_to_100', 'income_household_100_to_150',\n",
    "       'income_household_150_over', 'income_household_six_figure',\n",
    "       'income_individual_median', 'home_ownership', 'housing_units',\n",
    "       'home_value', 'rent_median', 'rent_burden', 'education_less_highschool',\n",
    "       'education_highschool', 'education_some_college', 'education_bachelors',\n",
    "       'education_graduate', 'education_college_or_above',\n",
    "       'education_stem_degree', 'labor_force_participation',\n",
    "       'unemployment_rate', 'self_employed', 'farmer', 'race_white',\n",
    "       'race_black', 'race_asian', 'race_native', 'race_pacific', 'race_other',\n",
    "       'race_multiple', 'hispanic', 'disabled', 'poverty', 'limited_english',\n",
    "       'commute_time', 'health_uninsured', 'veteran']]"
   ]
  },
  {
   "cell_type": "code",
   "execution_count": 150,
   "id": "46c5fe7d-f389-4ef0-97b2-814fd46bea54",
   "metadata": {},
   "outputs": [],
   "source": [
    "toxic_air_quality_data = data_no_missing_columns[[ 'Ozone', 'PM25', 'N02']]"
   ]
  },
  {
   "cell_type": "markdown",
   "id": "221958d0-6fb6-4f3e-956c-e8a67d90b6e0",
   "metadata": {},
   "source": [
    "## Exploratory Data Analysis & PP"
   ]
  },
  {
   "cell_type": "markdown",
   "id": "9730b756-c9bb-4daa-9e8d-08a2aeb60e25",
   "metadata": {
    "jp-MarkdownHeadingCollapsed": true
   },
   "source": [
    "#### Patient Characteristics"
   ]
  },
  {
   "cell_type": "code",
   "execution_count": 152,
   "id": "9bc64142-67c7-4200-8a4d-195b18eb2020",
   "metadata": {},
   "outputs": [
    {
     "data": {
      "text/plain": [
       "patient_race                        6385\n",
       "payer_type                          1803\n",
       "patient_state                         51\n",
       "patient_zip3                           0\n",
       "patient_age                            0\n",
       "patient_gender                         0\n",
       "bmi                                 8965\n",
       "breast_cancer_diagnosis_code           0\n",
       "breast_cancer_diagnosis_desc           0\n",
       "metastatic_cancer_diagnosis_code       0\n",
       "dtype: int64"
      ]
     },
     "execution_count": 152,
     "metadata": {},
     "output_type": "execute_result"
    }
   ],
   "source": [
    "patient_characteristics.isnull().sum()"
   ]
  },
  {
   "cell_type": "code",
   "execution_count": 153,
   "id": "74fac2d3-7c54-44aa-b538-5d4b14b2e620",
   "metadata": {},
   "outputs": [
    {
     "name": "stdout",
     "output_type": "stream",
     "text": [
      "<class 'pandas.core.frame.DataFrame'>\n",
      "RangeIndex: 12906 entries, 0 to 12905\n",
      "Data columns (total 10 columns):\n",
      " #   Column                            Non-Null Count  Dtype  \n",
      "---  ------                            --------------  -----  \n",
      " 0   patient_race                      6521 non-null   object \n",
      " 1   payer_type                        11103 non-null  object \n",
      " 2   patient_state                     12855 non-null  object \n",
      " 3   patient_zip3                      12906 non-null  int64  \n",
      " 4   patient_age                       12906 non-null  int64  \n",
      " 5   patient_gender                    12906 non-null  object \n",
      " 6   bmi                               3941 non-null   float64\n",
      " 7   breast_cancer_diagnosis_code      12906 non-null  object \n",
      " 8   breast_cancer_diagnosis_desc      12906 non-null  object \n",
      " 9   metastatic_cancer_diagnosis_code  12906 non-null  object \n",
      "dtypes: float64(1), int64(2), object(7)\n",
      "memory usage: 1008.4+ KB\n"
     ]
    }
   ],
   "source": [
    "patient_characteristics.info()"
   ]
  },
  {
   "cell_type": "code",
   "execution_count": 154,
   "id": "bd00bb84-230a-45a3-b95e-82071ac5ff73",
   "metadata": {},
   "outputs": [
    {
     "data": {
      "text/plain": [
       "<Axes: >"
      ]
     },
     "execution_count": 154,
     "metadata": {},
     "output_type": "execute_result"
    },
    {
     "data": {
      "image/png": "[encoded data removed]",
      "text/plain": [
       "<Figure size 640x480 with 1 Axes>"
      ]
     },
     "metadata": {},
     "output_type": "display_data"
    }
   ],
   "source": [
    "sns.boxplot(patient_characteristics[['bmi', 'patient_age']])"
   ]
  },
  {
   "cell_type": "code",
   "execution_count": 244,
   "id": "444276b3-1306-4e6d-a224-20b789568740",
   "metadata": {},
   "outputs": [
    {
     "data": {
      "text/plain": [
       "51.0"
      ]
     },
     "execution_count": 244,
     "metadata": {},
     "output_type": "execute_result"
    }
   ],
   "source": [
    "q20_age = patient_characteristics['patient_age'].quantile(0.10)\n",
    "q20_age"
   ]
  },
  {
   "cell_type": "code",
   "execution_count": 245,
   "id": "7bf35207-cc4a-4a7b-b692-bee0ca8ff888",
   "metadata": {},
   "outputs": [],
   "source": [
    "patient_age_no_outliers_mask = (data['patient_age']< q20_age)"
   ]
  },
  {
   "cell_type": "code",
   "execution_count": 246,
   "id": "943648ab-4be3-4827-9724-b1bae031f073",
   "metadata": {},
   "outputs": [
    {
     "data": {
      "text/plain": [
       "patient_age\n",
       "False    12004\n",
       "True       902\n",
       "Name: count, dtype: int64"
      ]
     },
     "execution_count": 246,
     "metadata": {},
     "output_type": "execute_result"
    }
   ],
   "source": [
    "patient_age_no_outliers_mask.value_counts()"
   ]
  },
  {
   "cell_type": "code",
   "execution_count": 247,
   "id": "1728780e-1769-4b0b-8f07-5dfdbccb8dde",
   "metadata": {},
   "outputs": [],
   "source": [
    "patient_age_no_outliers= patient_characteristics['patient_age'].mask(patient_age_no_outliers_mask,axis=0)"
   ]
  },
  {
   "cell_type": "code",
   "execution_count": 248,
   "id": "ef31dd42-ed56-41a7-bfa4-a36be8942105",
   "metadata": {},
   "outputs": [
    {
     "data": {
      "text/plain": [
       "<Axes: ylabel='patient_age'>"
      ]
     },
     "execution_count": 248,
     "metadata": {},
     "output_type": "execute_result"
    },
    {
     "data": {
      "image/png": "[encoded data removed]",
      "text/plain": [
       "<Figure size 640x480 with 1 Axes>"
      ]
     },
     "metadata": {},
     "output_type": "display_data"
    }
   ],
   "source": [
    "sns.boxplot(patient_age_no_outliers)"
   ]
  },
  {
   "cell_type": "code",
   "execution_count": 249,
   "id": "ba4201d9-950a-41d0-b513-ef92d8a635da",
   "metadata": {},
   "outputs": [
    {
     "name": "stderr",
     "output_type": "stream",
     "text": [
      "C:\\Users\\User\\AppData\\Local\\Temp\\ipykernel_18108\\2721238433.py:1: SettingWithCopyWarning: \n",
      "A value is trying to be set on a copy of a slice from a DataFrame.\n",
      "Try using .loc[row_indexer,col_indexer] = value instead\n",
      "\n",
      "See the caveats in the documentation: https://pandas.pydata.org/pandas-docs/stable/user_guide/indexing.html#returning-a-view-versus-a-copy\n",
      "  patient_characteristics['patient_age'] = patient_age_no_outliers\n"
     ]
    }
   ],
   "source": [
    "patient_characteristics['patient_age'] = patient_age_no_outliers"
   ]
  },
  {
   "cell_type": "markdown",
   "id": "6997acb0-b830-4fcc-bf64-a298459b1c08",
   "metadata": {
    "jp-MarkdownHeadingCollapsed": true
   },
   "source": [
    "#### Patient_demographics"
   ]
  },
  {
   "cell_type": "code",
   "execution_count": 235,
   "id": "0fe66c3d-6c53-4ec0-82f4-f31e65d82322",
   "metadata": {
    "scrolled": true
   },
   "outputs": [
    {
     "name": "stdout",
     "output_type": "stream",
     "text": [
      "<class 'pandas.core.frame.DataFrame'>\n",
      "RangeIndex: 12906 entries, 0 to 12905\n",
      "Data columns (total 66 columns):\n",
      " #   Column                       Non-Null Count  Dtype  \n",
      "---  ------                       --------------  -----  \n",
      " 0   Region                       12854 non-null  object \n",
      " 1   Division                     12854 non-null  object \n",
      " 2   population                   12905 non-null  float64\n",
      " 3   density                      12905 non-null  float64\n",
      " 4   age_median                   12905 non-null  float64\n",
      " 5   age_under_10                 12905 non-null  float64\n",
      " 6   age_10_to_19                 12905 non-null  float64\n",
      " 7   age_20s                      12905 non-null  float64\n",
      " 8   age_30s                      12905 non-null  float64\n",
      " 9   age_40s                      12905 non-null  float64\n",
      " 10  age_50s                      12905 non-null  float64\n",
      " 11  age_60s                      12905 non-null  float64\n",
      " 12  age_70s                      12905 non-null  float64\n",
      " 13  age_over_80                  12905 non-null  float64\n",
      " 14  male                         12905 non-null  float64\n",
      " 15  female                       12905 non-null  float64\n",
      " 16  married                      12905 non-null  float64\n",
      " 17  divorced                     12905 non-null  float64\n",
      " 18  never_married                12905 non-null  float64\n",
      " 19  widowed                      12905 non-null  float64\n",
      " 20  family_size                  12902 non-null  float64\n",
      " 21  family_dual_income           12902 non-null  float64\n",
      " 22  income_household_median      12902 non-null  float64\n",
      " 23  income_household_under_5     12902 non-null  float64\n",
      " 24  income_household_5_to_10     12902 non-null  float64\n",
      " 25  income_household_10_to_15    12902 non-null  float64\n",
      " 26  income_household_15_to_20    12902 non-null  float64\n",
      " 27  income_household_20_to_25    12902 non-null  float64\n",
      " 28  income_household_25_to_35    12902 non-null  float64\n",
      " 29  income_household_35_to_50    12902 non-null  float64\n",
      " 30  income_household_50_to_75    12902 non-null  float64\n",
      " 31  income_household_75_to_100   12902 non-null  float64\n",
      " 32  income_household_100_to_150  12902 non-null  float64\n",
      " 33  income_household_150_over    12902 non-null  float64\n",
      " 34  income_household_six_figure  12902 non-null  float64\n",
      " 35  income_individual_median     12905 non-null  float64\n",
      " 36  home_ownership               12902 non-null  float64\n",
      " 37  housing_units                12905 non-null  float64\n",
      " 38  home_value                   12902 non-null  float64\n",
      " 39  rent_median                  12902 non-null  float64\n",
      " 40  rent_burden                  12902 non-null  float64\n",
      " 41  education_less_highschool    12905 non-null  float64\n",
      " 42  education_highschool         12905 non-null  float64\n",
      " 43  education_some_college       12905 non-null  float64\n",
      " 44  education_bachelors          12905 non-null  float64\n",
      " 45  education_graduate           12905 non-null  float64\n",
      " 46  education_college_or_above   12905 non-null  float64\n",
      " 47  education_stem_degree        12905 non-null  float64\n",
      " 48  labor_force_participation    12905 non-null  float64\n",
      " 49  unemployment_rate            12905 non-null  float64\n",
      " 50  self_employed                12902 non-null  float64\n",
      " 51  farmer                       12902 non-null  float64\n",
      " 52  race_white                   12905 non-null  float64\n",
      " 53  race_black                   12905 non-null  float64\n",
      " 54  race_asian                   12905 non-null  float64\n",
      " 55  race_native                  12905 non-null  float64\n",
      " 56  race_pacific                 12905 non-null  float64\n",
      " 57  race_other                   12905 non-null  float64\n",
      " 58  race_multiple                12905 non-null  float64\n",
      " 59  hispanic                     12905 non-null  float64\n",
      " 60  disabled                     12905 non-null  float64\n",
      " 61  poverty                      12902 non-null  float64\n",
      " 62  limited_english              12902 non-null  float64\n",
      " 63  commute_time                 12905 non-null  float64\n",
      " 64  health_uninsured             12905 non-null  float64\n",
      " 65  veteran                      12905 non-null  float64\n",
      "dtypes: float64(64), object(2)\n",
      "memory usage: 6.5+ MB\n"
     ]
    }
   ],
   "source": [
    "patient_demographics.info()"
   ]
  },
  {
   "cell_type": "code",
   "execution_count": 162,
   "id": "02e393c0-9a0c-4525-b75b-d613903b0ff6",
   "metadata": {},
   "outputs": [
    {
     "data": {
      "text/plain": [
       "<Axes: ylabel='density'>"
      ]
     },
     "execution_count": 162,
     "metadata": {},
     "output_type": "execute_result"
    },
    {
     "data": {
      "image/png": "[encoded data removed]",
      "text/plain": [
       "<Figure size 640x480 with 1 Axes>"
      ]
     },
     "metadata": {},
     "output_type": "display_data"
    }
   ],
   "source": [
    "sns.boxplot(patient_demographics['density'])"
   ]
  },
  {
   "cell_type": "code",
   "execution_count": 238,
   "id": "496727f1-0f2a-4165-a041-c3e2dbd5ebbd",
   "metadata": {},
   "outputs": [
    {
     "data": {
      "text/plain": [
       "density\n",
       "False    11617\n",
       "True      1289\n",
       "Name: count, dtype: int64"
      ]
     },
     "execution_count": 238,
     "metadata": {},
     "output_type": "execute_result"
    }
   ],
   "source": [
    "q10 =  patient_demographics['density'].quantile(0.10)\n",
    "density_no_outliers_mask = (patient_demographics['density'] < q10)\n",
    "density_no_outliers_mask.value_counts()"
   ]
  },
  {
   "cell_type": "code",
   "execution_count": 263,
   "id": "7f091945-0b05-49b1-95d2-06a615a8570c",
   "metadata": {
    "scrolled": true
   },
   "outputs": [],
   "source": [
    "density_no_outliers= data_no_missing_columns['density'].mask(density_no_outliers_mask,axis=0)"
   ]
  },
  {
   "cell_type": "code",
   "execution_count": 264,
   "id": "75f60729-552e-4b18-a64d-9a23b7aa63b0",
   "metadata": {},
   "outputs": [
    {
     "name": "stderr",
     "output_type": "stream",
     "text": [
      "C:\\Users\\User\\AppData\\Local\\Temp\\ipykernel_18108\\1211188590.py:1: SettingWithCopyWarning: \n",
      "A value is trying to be set on a copy of a slice from a DataFrame.\n",
      "Try using .loc[row_indexer,col_indexer] = value instead\n",
      "\n",
      "See the caveats in the documentation: https://pandas.pydata.org/pandas-docs/stable/user_guide/indexing.html#returning-a-view-versus-a-copy\n",
      "  patient_demographics['density'] = density_no_outliers\n"
     ]
    }
   ],
   "source": [
    " patient_demographics['density'] = density_no_outliers"
   ]
  },
  {
   "cell_type": "code",
   "execution_count": 251,
   "id": "b5acbcea-3e1c-4d3f-abdc-de8e3f8808e0",
   "metadata": {},
   "outputs": [
    {
     "name": "stdout",
     "output_type": "stream",
     "text": [
      "<class 'pandas.core.series.Series'>\n",
      "RangeIndex: 12906 entries, 0 to 12905\n",
      "Series name: density\n",
      "Non-Null Count  Dtype  \n",
      "--------------  -----  \n",
      "10330 non-null  float64\n",
      "dtypes: float64(1)\n",
      "memory usage: 101.0 KB\n"
     ]
    }
   ],
   "source": [
    "patient_demographics['density'].info()"
   ]
  },
  {
   "cell_type": "code",
   "execution_count": 257,
   "id": "3fc81312-42c2-4583-842f-3a7abd203308",
   "metadata": {
    "scrolled": true
   },
   "outputs": [
    {
     "data": {
      "text/plain": [
       "population\n",
       "False    11618\n",
       "True      1288\n",
       "Name: count, dtype: int64"
      ]
     },
     "execution_count": 257,
     "metadata": {},
     "output_type": "execute_result"
    }
   ],
   "source": [
    "q10 =  patient_demographics['population'].quantile(0.10)\n",
    "population_no_outliers_mask = (patient_demographics['population'] < q10)\n",
    "population_no_outliers_mask.value_counts()"
   ]
  },
  {
   "cell_type": "code",
   "execution_count": 254,
   "id": "ca8bde38-960f-4798-a053-8c68c9b70358",
   "metadata": {},
   "outputs": [],
   "source": [
    "population_no_outliers = patient_demographics['population'].mask(population_no_outliers_mask,axis=0)"
   ]
  },
  {
   "cell_type": "code",
   "execution_count": 258,
   "id": "fef40eff-d586-409e-86a9-6104491fec46",
   "metadata": {},
   "outputs": [
    {
     "data": {
      "text/plain": [
       "<Axes: ylabel='population'>"
      ]
     },
     "execution_count": 258,
     "metadata": {},
     "output_type": "execute_result"
    },
    {
     "data": {
      "image/png": "[encoded data removed]",
      "text/plain": [
       "<Figure size 640x480 with 1 Axes>"
      ]
     },
     "metadata": {},
     "output_type": "display_data"
    }
   ],
   "source": [
    "sns.boxplot(population_no_outliers)"
   ]
  },
  {
   "cell_type": "code",
   "execution_count": 260,
   "id": "51ffacd1-a7a2-44f5-8dba-32d01ed05b98",
   "metadata": {},
   "outputs": [],
   "source": [
    "age_demographics = patient_demographics[['age_median',\n",
    "       'age_under_10', 'age_10_to_19', 'age_20s', 'age_30s', 'age_40s',\n",
    "       'age_50s', 'age_60s', 'age_70s', 'age_over_80']]"
   ]
  },
  {
   "cell_type": "code",
   "execution_count": 127,
   "id": "806baf37-9090-4975-a1c8-344d30888192",
   "metadata": {},
   "outputs": [
    {
     "data": {
      "text/plain": [
       "<Axes: >"
      ]
     },
     "execution_count": 127,
     "metadata": {},
     "output_type": "execute_result"
    },
    {
     "data": {
      "image/png": "[encoded data removed]",
      "text/plain": [
       "<Figure size 640x480 with 2 Axes>"
      ]
     },
     "metadata": {},
     "output_type": "display_data"
    }
   ],
   "source": [
    "sns.heatmap(age_demographics.corr(),cmap = 'RdBu')"
   ]
  },
  {
   "cell_type": "code",
   "execution_count": 194,
   "id": "d654b28e-192a-4c5a-b291-a1a6e8bf06c0",
   "metadata": {
    "scrolled": true
   },
   "outputs": [
    {
     "data": {
      "text/plain": [
       "<Figure size 10000x3000 with 0 Axes>"
      ]
     },
     "execution_count": 194,
     "metadata": {},
     "output_type": "execute_result"
    },
    {
     "data": {
      "image/png": "[encoded data removed]",
      "text/plain": [
       "<Figure size 640x480 with 1 Axes>"
      ]
     },
     "metadata": {},
     "output_type": "display_data"
    },
    {
     "data": {
      "text/plain": [
       "<Figure size 10000x3000 with 0 Axes>"
      ]
     },
     "metadata": {},
     "output_type": "display_data"
    }
   ],
   "source": [
    "sns.boxplot(age_demographics)\n",
    "plt.figure(figsize=(100,30))"
   ]
  },
  {
   "cell_type": "markdown",
   "id": "32c53b60-c581-41af-b9f3-77659b59830d",
   "metadata": {
    "jp-MarkdownHeadingCollapsed": true
   },
   "source": [
    "#### toxic air quality"
   ]
  },
  {
   "cell_type": "code",
   "execution_count": 234,
   "id": "35db369a-5335-4a3c-b905-1e9521ab8f33",
   "metadata": {
    "scrolled": true
   },
   "outputs": [
    {
     "data": {
      "text/plain": [
       "<Axes: >"
      ]
     },
     "execution_count": 234,
     "metadata": {},
     "output_type": "execute_result"
    },
    {
     "data": {
      "image/png": "[encoded data removed]",
      "text/plain": [
       "<Figure size 640x480 with 1 Axes>"
      ]
     },
     "metadata": {},
     "output_type": "display_data"
    }
   ],
   "source": [
    "sns.boxplot(toxic_air_quality_data)"
   ]
  },
  {
   "cell_type": "markdown",
   "id": "b8bfca4e-0f73-418c-bc26-17a956654051",
   "metadata": {
    "jp-MarkdownHeadingCollapsed": true
   },
   "source": [
    "### Converting categorical data to num"
   ]
  },
  {
   "cell_type": "code",
   "execution_count": 265,
   "id": "b6b892e6-a6e1-4f13-a44d-1f404a487198",
   "metadata": {},
   "outputs": [
    {
     "name": "stdout",
     "output_type": "stream",
     "text": [
      "<class 'pandas.core.frame.DataFrame'>\n",
      "RangeIndex: 12906 entries, 0 to 12905\n",
      "Data columns (total 66 columns):\n",
      " #   Column                       Non-Null Count  Dtype  \n",
      "---  ------                       --------------  -----  \n",
      " 0   Region                       12854 non-null  object \n",
      " 1   Division                     12854 non-null  object \n",
      " 2   population                   12905 non-null  float64\n",
      " 3   density                      11616 non-null  float64\n",
      " 4   age_median                   12905 non-null  float64\n",
      " 5   age_under_10                 12905 non-null  float64\n",
      " 6   age_10_to_19                 12905 non-null  float64\n",
      " 7   age_20s                      12905 non-null  float64\n",
      " 8   age_30s                      12905 non-null  float64\n",
      " 9   age_40s                      12905 non-null  float64\n",
      " 10  age_50s                      12905 non-null  float64\n",
      " 11  age_60s                      12905 non-null  float64\n",
      " 12  age_70s                      12905 non-null  float64\n",
      " 13  age_over_80                  12905 non-null  float64\n",
      " 14  male                         12905 non-null  float64\n",
      " 15  female                       12905 non-null  float64\n",
      " 16  married                      12905 non-null  float64\n",
      " 17  divorced                     12905 non-null  float64\n",
      " 18  never_married                12905 non-null  float64\n",
      " 19  widowed                      12905 non-null  float64\n",
      " 20  family_size                  12902 non-null  float64\n",
      " 21  family_dual_income           12902 non-null  float64\n",
      " 22  income_household_median      12902 non-null  float64\n",
      " 23  income_household_under_5     12902 non-null  float64\n",
      " 24  income_household_5_to_10     12902 non-null  float64\n",
      " 25  income_household_10_to_15    12902 non-null  float64\n",
      " 26  income_household_15_to_20    12902 non-null  float64\n",
      " 27  income_household_20_to_25    12902 non-null  float64\n",
      " 28  income_household_25_to_35    12902 non-null  float64\n",
      " 29  income_household_35_to_50    12902 non-null  float64\n",
      " 30  income_household_50_to_75    12902 non-null  float64\n",
      " 31  income_household_75_to_100   12902 non-null  float64\n",
      " 32  income_household_100_to_150  12902 non-null  float64\n",
      " 33  income_household_150_over    12902 non-null  float64\n",
      " 34  income_household_six_figure  12902 non-null  float64\n",
      " 35  income_individual_median     12905 non-null  float64\n",
      " 36  home_ownership               12902 non-null  float64\n",
      " 37  housing_units                12905 non-null  float64\n",
      " 38  home_value                   12902 non-null  float64\n",
      " 39  rent_median                  12902 non-null  float64\n",
      " 40  rent_burden                  12902 non-null  float64\n",
      " 41  education_less_highschool    12905 non-null  float64\n",
      " 42  education_highschool         12905 non-null  float64\n",
      " 43  education_some_college       12905 non-null  float64\n",
      " 44  education_bachelors          12905 non-null  float64\n",
      " 45  education_graduate           12905 non-null  float64\n",
      " 46  education_college_or_above   12905 non-null  float64\n",
      " 47  education_stem_degree        12905 non-null  float64\n",
      " 48  labor_force_participation    12905 non-null  float64\n",
      " 49  unemployment_rate            12905 non-null  float64\n",
      " 50  self_employed                12902 non-null  float64\n",
      " 51  farmer                       12902 non-null  float64\n",
      " 52  race_white                   12905 non-null  float64\n",
      " 53  race_black                   12905 non-null  float64\n",
      " 54  race_asian                   12905 non-null  float64\n",
      " 55  race_native                  12905 non-null  float64\n",
      " 56  race_pacific                 12905 non-null  float64\n",
      " 57  race_other                   12905 non-null  float64\n",
      " 58  race_multiple                12905 non-null  float64\n",
      " 59  hispanic                     12905 non-null  float64\n",
      " 60  disabled                     12905 non-null  float64\n",
      " 61  poverty                      12902 non-null  float64\n",
      " 62  limited_english              12902 non-null  float64\n",
      " 63  commute_time                 12905 non-null  float64\n",
      " 64  health_uninsured             12905 non-null  float64\n",
      " 65  veteran                      12905 non-null  float64\n",
      "dtypes: float64(64), object(2)\n",
      "memory usage: 6.5+ MB\n"
     ]
    }
   ],
   "source": [
    "patient_demographics.info()"
   ]
  },
  {
   "cell_type": "code",
   "execution_count": 266,
   "id": "5e050248-4dad-455b-8fb1-0f775d141a60",
   "metadata": {},
   "outputs": [],
   "source": [
    "patient_demographics_cat = patient_demographics.select_dtypes('object').columns.to_list()"
   ]
  },
  {
   "cell_type": "code",
   "execution_count": 267,
   "id": "079d69b3-a3bc-42e9-8c5b-755c5149412b",
   "metadata": {},
   "outputs": [],
   "source": [
    "patient_demographics_num = patient_demographics.select_dtypes('float64').columns.to_list()"
   ]
  },
  {
   "cell_type": "code",
   "execution_count": 268,
   "id": "d4b8ac17-adf6-458d-b285-7da6188bd94a",
   "metadata": {},
   "outputs": [
    {
     "data": {
      "text/plain": [
       "Region      4\n",
       "Division    9\n",
       "dtype: int64"
      ]
     },
     "execution_count": 268,
     "metadata": {},
     "output_type": "execute_result"
    }
   ],
   "source": [
    "patient_demographics[patient_demographics_cat].nunique()"
   ]
  },
  {
   "cell_type": "code",
   "execution_count": 269,
   "id": "2cabe6f4-cde5-4929-a7d5-c7a4dd1dbe6b",
   "metadata": {},
   "outputs": [
    {
     "data": {
      "text/plain": [
       "{'South': 3919, 'West': 3735, 'Midwest': 3650, 'Northeast': 1550}"
      ]
     },
     "execution_count": 269,
     "metadata": {},
     "output_type": "execute_result"
    }
   ],
   "source": [
    "patient_demographics['Region'].value_counts().to_dict()"
   ]
  },
  {
   "cell_type": "code",
   "execution_count": 270,
   "id": "6603c550-76e9-455f-bb50-72979f167353",
   "metadata": {},
   "outputs": [
    {
     "data": {
      "text/plain": [
       "{'East North Central': 2923,\n",
       " 'Pacific': 2754,\n",
       " 'South Atlantic': 1972,\n",
       " 'Middle Atlantic': 1545,\n",
       " 'West South Central': 1450,\n",
       " 'Mountain': 981,\n",
       " 'West North Central': 727,\n",
       " 'East South Central': 497,\n",
       " 'New England': 5}"
      ]
     },
     "execution_count": 270,
     "metadata": {},
     "output_type": "execute_result"
    }
   ],
   "source": [
    "patient_demographics['Division'].value_counts().to_dict()"
   ]
  },
  {
   "cell_type": "code",
   "execution_count": 271,
   "id": "5a1a45fe-956e-44c2-a854-54eb99100676",
   "metadata": {},
   "outputs": [
    {
     "name": "stderr",
     "output_type": "stream",
     "text": [
      "C:\\Users\\User\\AppData\\Local\\Temp\\ipykernel_18108\\4144519688.py:1: SettingWithCopyWarning: \n",
      "A value is trying to be set on a copy of a slice from a DataFrame.\n",
      "Try using .loc[row_indexer,col_indexer] = value instead\n",
      "\n",
      "See the caveats in the documentation: https://pandas.pydata.org/pandas-docs/stable/user_guide/indexing.html#returning-a-view-versus-a-copy\n",
      "  patient_demographics['Region']= patient_demographics['Region'].map({'South': 3919, 'West': 3735, 'Midwest': 3650, 'Northeast': 1550})\n"
     ]
    }
   ],
   "source": [
    "patient_demographics['Region']= patient_demographics['Region'].map({'South': 3919, 'West': 3735, 'Midwest': 3650, 'Northeast': 1550})"
   ]
  },
  {
   "cell_type": "code",
   "execution_count": 272,
   "id": "712fc5e6-3875-4b42-a0fa-7918ef53b06f",
   "metadata": {},
   "outputs": [
    {
     "data": {
      "text/plain": [
       "0    3735.0\n",
       "1    3735.0\n",
       "2    3919.0\n",
       "3    3735.0\n",
       "4    3735.0\n",
       "Name: Region, dtype: float64"
      ]
     },
     "execution_count": 272,
     "metadata": {},
     "output_type": "execute_result"
    }
   ],
   "source": [
    "patient_demographics['Region'].head()"
   ]
  },
  {
   "cell_type": "code",
   "execution_count": 273,
   "id": "8b6b069c-a833-4624-a9e3-a4d528dbc34c",
   "metadata": {},
   "outputs": [
    {
     "name": "stderr",
     "output_type": "stream",
     "text": [
      "C:\\Users\\User\\AppData\\Local\\Temp\\ipykernel_18108\\3010715677.py:1: SettingWithCopyWarning: \n",
      "A value is trying to be set on a copy of a slice from a DataFrame.\n",
      "Try using .loc[row_indexer,col_indexer] = value instead\n",
      "\n",
      "See the caveats in the documentation: https://pandas.pydata.org/pandas-docs/stable/user_guide/indexing.html#returning-a-view-versus-a-copy\n",
      "  patient_demographics['Division'] = patient_demographics['Division'].map({'East North Central': 2923,\n"
     ]
    }
   ],
   "source": [
    "patient_demographics['Division'] = patient_demographics['Division'].map({'East North Central': 2923,\n",
    " 'Pacific': 2754,\n",
    " 'South Atlantic': 1972,\n",
    " 'Middle Atlantic': 1545,\n",
    " 'West South Central': 1450,\n",
    " 'Mountain': 981,\n",
    " 'West North Central': 727,\n",
    " 'East South Central': 497,\n",
    " 'New England': 5})"
   ]
  },
  {
   "cell_type": "code",
   "execution_count": 274,
   "id": "9a1f31e5-ab4c-4e86-8c3a-b3e90a271ad8",
   "metadata": {
    "scrolled": true
   },
   "outputs": [
    {
     "data": {
      "image/png": "[encoded data removed]",
      "text/plain": [
       "<Figure size 2000x1000 with 2 Axes>"
      ]
     },
     "metadata": {},
     "output_type": "display_data"
    }
   ],
   "source": [
    "plt.figure(figsize=(20,10))\n",
    "sns.heatmap(patient_demographics.corr(),cmap='RdBu')\n",
    "plt.show()"
   ]
  },
  {
   "cell_type": "code",
   "execution_count": 514,
   "id": "8ce9ea60-e16e-4cc1-8324-ff56076e116e",
   "metadata": {},
   "outputs": [
    {
     "data": {
      "text/plain": [
       "<seaborn.axisgrid.FacetGrid at 0x1778b484dc0>"
      ]
     },
     "execution_count": 514,
     "metadata": {},
     "output_type": "execute_result"
    },
    {
     "data": {
      "image/png": "[encoded data removed]",
      "text/plain": [
       "<Figure size 500x500 with 1 Axes>"
      ]
     },
     "metadata": {},
     "output_type": "display_data"
    }
   ],
   "source": [
    "sns.displot(data_no_missing_columns['bmi'])"
   ]
  },
  {
   "cell_type": "code",
   "execution_count": 281,
   "id": "f219c617-1af1-4bd7-a213-815f82380673",
   "metadata": {},
   "outputs": [
    {
     "data": {
      "text/plain": [
       "patient_race                           5\n",
       "payer_type                             3\n",
       "patient_state                         50\n",
       "patient_zip3                         739\n",
       "patient_age                           34\n",
       "patient_gender                         1\n",
       "bmi                                 1342\n",
       "breast_cancer_diagnosis_code          50\n",
       "breast_cancer_diagnosis_desc          50\n",
       "metastatic_cancer_diagnosis_code      43\n",
       "dtype: int64"
      ]
     },
     "execution_count": 281,
     "metadata": {},
     "output_type": "execute_result"
    }
   ],
   "source": [
    "patient_characteristics.nunique()"
   ]
  },
  {
   "cell_type": "code",
   "execution_count": 282,
   "id": "a3396810-19f6-41a4-82c8-1d44f27c5fc8",
   "metadata": {},
   "outputs": [
    {
     "data": {
      "text/plain": [
       "Index(['patient_race', 'payer_type', 'patient_state', 'patient_gender',\n",
       "       'breast_cancer_diagnosis_code', 'breast_cancer_diagnosis_desc',\n",
       "       'metastatic_cancer_diagnosis_code'],\n",
       "      dtype='object')"
      ]
     },
     "execution_count": 282,
     "metadata": {},
     "output_type": "execute_result"
    }
   ],
   "source": [
    "patient_characteristics_cat = patient_characteristics.select_dtypes('object')\n",
    "patient_characteristics_cat.columns"
   ]
  },
  {
   "cell_type": "code",
   "execution_count": 283,
   "id": "9e7f7b0f-b887-4da6-bf67-398b8bce94be",
   "metadata": {},
   "outputs": [
    {
     "data": {
      "text/plain": [
       "{'COMMERCIAL': 6032, 'MEDICAID': 2569, 'MEDICARE ADVANTAGE': 2502}"
      ]
     },
     "execution_count": 283,
     "metadata": {},
     "output_type": "execute_result"
    }
   ],
   "source": [
    "patient_characteristics_cat['payer_type'].value_counts().to_dict()"
   ]
  },
  {
   "cell_type": "code",
   "execution_count": 284,
   "id": "e746db8a-568a-4163-8af7-d437d69e2b49",
   "metadata": {},
   "outputs": [],
   "source": [
    "patient_characteristics_cat['payer_type']=patient_characteristics_cat['payer_type'].map({\n",
    "    'COMMERCIAL': 6032,\n",
    "    'MEDICAID': 2569, \n",
    "    'MEDICARE ADVANTAGE': 2502\n",
    "})"
   ]
  },
  {
   "cell_type": "code",
   "execution_count": 285,
   "id": "6af4391d-5cf3-42e2-bc4c-8040a6fbc7a5",
   "metadata": {},
   "outputs": [
    {
     "data": {
      "text/plain": [
       "patient_gender\n",
       "F    12906\n",
       "Name: count, dtype: int64"
      ]
     },
     "execution_count": 285,
     "metadata": {},
     "output_type": "execute_result"
    }
   ],
   "source": [
    "patient_characteristics_cat['patient_gender'].value_counts()"
   ]
  },
  {
   "cell_type": "code",
   "execution_count": 286,
   "id": "be88a846-44a1-4c09-85b8-eee3630a6e5d",
   "metadata": {},
   "outputs": [],
   "source": [
    "patient_characteristics_cat = patient_characteristics_cat.drop(['patient_gender'], axis=1)"
   ]
  },
  {
   "cell_type": "code",
   "execution_count": 287,
   "id": "6d3793bc-0e45-45e0-afec-f5c2f2f420b2",
   "metadata": {},
   "outputs": [],
   "source": [
    "state_mapping = patient_characteristics_cat['patient_state'].value_counts().to_dict()"
   ]
  },
  {
   "cell_type": "code",
   "execution_count": 288,
   "id": "4de959bf-1889-456a-906c-2047eef1f5cf",
   "metadata": {},
   "outputs": [],
   "source": [
    "patient_characteristics_cat['patient_state'] = patient_characteristics_cat['patient_state'].map(state_mapping)"
   ]
  },
  {
   "cell_type": "code",
   "execution_count": 289,
   "id": "3ea6088e-75cc-4df4-8660-f80b761058c9",
   "metadata": {},
   "outputs": [],
   "source": [
    "meta_cancer_diag= patient_characteristics_cat['metastatic_cancer_diagnosis_code'].value_counts().to_dict()"
   ]
  },
  {
   "cell_type": "code",
   "execution_count": 290,
   "id": "eeba6509-15c3-40fe-b5af-7af2477f0dbc",
   "metadata": {},
   "outputs": [],
   "source": [
    "patient_characteristics_cat['metastatic_cancer_diagnosis_code']= patient_characteristics_cat['metastatic_cancer_diagnosis_code'].map(\n",
    "    meta_cancer_diag)"
   ]
  },
  {
   "cell_type": "code",
   "execution_count": 291,
   "id": "d1b69d70-ab91-4ac5-9383-50ea95c77168",
   "metadata": {},
   "outputs": [],
   "source": [
    "cancer_code = patient_characteristics_cat['breast_cancer_diagnosis_code'].value_counts().to_dict()"
   ]
  },
  {
   "cell_type": "code",
   "execution_count": 292,
   "id": "4e0929c1-3584-4013-9f10-6f3d2885caa0",
   "metadata": {},
   "outputs": [],
   "source": [
    "patient_characteristics_cat['breast_cancer_diagnosis_code'] = patient_characteristics_cat['breast_cancer_diagnosis_code'].map(cancer_code)"
   ]
  },
  {
   "cell_type": "code",
   "execution_count": 293,
   "id": "8a4bfd80-0379-41df-8298-0a8163413d1a",
   "metadata": {},
   "outputs": [],
   "source": [
    "cancer_diagnosis=patient_characteristics_cat['breast_cancer_diagnosis_desc'].value_counts().to_dict()"
   ]
  },
  {
   "cell_type": "code",
   "execution_count": 294,
   "id": "319252cc-118a-40b7-9e91-05d4cf5e4f97",
   "metadata": {},
   "outputs": [],
   "source": [
    "patient_characteristics_cat['breast_cancer_diagnosis_desc'] = patient_characteristics_cat['breast_cancer_diagnosis_desc'].map(cancer_diagnosis)"
   ]
  },
  {
   "cell_type": "code",
   "execution_count": 295,
   "id": "93c091ca-db8d-429f-865c-e9400eea3daf",
   "metadata": {},
   "outputs": [],
   "source": [
    "race = patient_characteristics_cat['patient_race'].value_counts().to_dict()"
   ]
  },
  {
   "cell_type": "code",
   "execution_count": 296,
   "id": "67032b1a-bd01-4a58-bf3c-5bd35df43850",
   "metadata": {},
   "outputs": [],
   "source": [
    "patient_characteristics_cat['patient_race'] =patient_characteristics_cat['patient_race'].map(race)"
   ]
  },
  {
   "cell_type": "code",
   "execution_count": 297,
   "id": "f3d4744b-18b0-4e3e-b6e3-f463774dcddb",
   "metadata": {},
   "outputs": [
    {
     "data": {
      "text/plain": [
       "<Axes: >"
      ]
     },
     "execution_count": 297,
     "metadata": {},
     "output_type": "execute_result"
    },
    {
     "data": {
      "image/png": "[encoded data removed]",
      "text/plain": [
       "<Figure size 640x480 with 2 Axes>"
      ]
     },
     "metadata": {},
     "output_type": "display_data"
    }
   ],
   "source": [
    "sns.heatmap(patient_characteristics_cat.corr(), cmap='RdBu')"
   ]
  },
  {
   "cell_type": "code",
   "execution_count": 298,
   "id": "0af13b14-ca7b-4cf7-9cb0-cbce2fb7273d",
   "metadata": {},
   "outputs": [
    {
     "name": "stderr",
     "output_type": "stream",
     "text": [
      "C:\\Users\\User\\AppData\\Local\\Temp\\ipykernel_18108\\991772046.py:1: SettingWithCopyWarning: \n",
      "A value is trying to be set on a copy of a slice from a DataFrame.\n",
      "Try using .loc[row_indexer,col_indexer] = value instead\n",
      "\n",
      "See the caveats in the documentation: https://pandas.pydata.org/pandas-docs/stable/user_guide/indexing.html#returning-a-view-versus-a-copy\n",
      "  patient_characteristics[['patient_race', 'payer_type', 'patient_state',\n"
     ]
    }
   ],
   "source": [
    "patient_characteristics[['patient_race', 'payer_type', 'patient_state',\n",
    "       'breast_cancer_diagnosis_code', 'breast_cancer_diagnosis_desc',\n",
    "       'metastatic_cancer_diagnosis_code']] = patient_characteristics_cat"
   ]
  },
  {
   "cell_type": "code",
   "execution_count": 299,
   "id": "e398b676-1655-4a77-9d71-a3a194479c87",
   "metadata": {},
   "outputs": [
    {
     "data": {
      "text/html": [
       "<div>\n",
       "<style scoped>\n",
       "    .dataframe tbody tr th:only-of-type {\n",
       "        vertical-align: middle;\n",
       "    }\n",
       "\n",
       "    .dataframe tbody tr th {\n",
       "        vertical-align: top;\n",
       "    }\n",
       "\n",
       "    .dataframe thead th {\n",
       "        text-align: right;\n",
       "    }\n",
       "</style>\n",
       "<table border=\"1\" class=\"dataframe\">\n",
       "  <thead>\n",
       "    <tr style=\"text-align: right;\">\n",
       "      <th></th>\n",
       "      <th>patient_race</th>\n",
       "      <th>payer_type</th>\n",
       "      <th>patient_state</th>\n",
       "      <th>patient_zip3</th>\n",
       "      <th>patient_age</th>\n",
       "      <th>bmi</th>\n",
       "      <th>breast_cancer_diagnosis_code</th>\n",
       "      <th>breast_cancer_diagnosis_desc</th>\n",
       "      <th>metastatic_cancer_diagnosis_code</th>\n",
       "    </tr>\n",
       "  </thead>\n",
       "  <tbody>\n",
       "    <tr>\n",
       "      <th>0</th>\n",
       "      <td>NaN</td>\n",
       "      <td>2569.0</td>\n",
       "      <td>2438.0</td>\n",
       "      <td>924</td>\n",
       "      <td>84.0</td>\n",
       "      <td>NaN</td>\n",
       "      <td>1467</td>\n",
       "      <td>1467</td>\n",
       "      <td>344</td>\n",
       "    </tr>\n",
       "    <tr>\n",
       "      <th>1</th>\n",
       "      <td>3588.0</td>\n",
       "      <td>6032.0</td>\n",
       "      <td>2438.0</td>\n",
       "      <td>928</td>\n",
       "      <td>62.0</td>\n",
       "      <td>28.49</td>\n",
       "      <td>978</td>\n",
       "      <td>978</td>\n",
       "      <td>7052</td>\n",
       "    </tr>\n",
       "    <tr>\n",
       "      <th>2</th>\n",
       "      <td>3588.0</td>\n",
       "      <td>6032.0</td>\n",
       "      <td>1155.0</td>\n",
       "      <td>760</td>\n",
       "      <td>NaN</td>\n",
       "      <td>38.09</td>\n",
       "      <td>209</td>\n",
       "      <td>209</td>\n",
       "      <td>7052</td>\n",
       "    </tr>\n",
       "    <tr>\n",
       "      <th>3</th>\n",
       "      <td>3588.0</td>\n",
       "      <td>6032.0</td>\n",
       "      <td>2438.0</td>\n",
       "      <td>926</td>\n",
       "      <td>NaN</td>\n",
       "      <td>NaN</td>\n",
       "      <td>293</td>\n",
       "      <td>293</td>\n",
       "      <td>7052</td>\n",
       "    </tr>\n",
       "    <tr>\n",
       "      <th>4</th>\n",
       "      <td>NaN</td>\n",
       "      <td>6032.0</td>\n",
       "      <td>93.0</td>\n",
       "      <td>836</td>\n",
       "      <td>55.0</td>\n",
       "      <td>NaN</td>\n",
       "      <td>1982</td>\n",
       "      <td>1982</td>\n",
       "      <td>7052</td>\n",
       "    </tr>\n",
       "  </tbody>\n",
       "</table>\n",
       "</div>"
      ],
      "text/plain": [
       "   patient_race  payer_type  patient_state  patient_zip3  patient_age    bmi  \\\n",
       "0           NaN      2569.0         2438.0           924         84.0    NaN   \n",
       "1        3588.0      6032.0         2438.0           928         62.0  28.49   \n",
       "2        3588.0      6032.0         1155.0           760          NaN  38.09   \n",
       "3        3588.0      6032.0         2438.0           926          NaN    NaN   \n",
       "4           NaN      6032.0           93.0           836         55.0    NaN   \n",
       "\n",
       "   breast_cancer_diagnosis_code  breast_cancer_diagnosis_desc  \\\n",
       "0                          1467                          1467   \n",
       "1                           978                           978   \n",
       "2                           209                           209   \n",
       "3                           293                           293   \n",
       "4                          1982                          1982   \n",
       "\n",
       "   metastatic_cancer_diagnosis_code  \n",
       "0                               344  \n",
       "1                              7052  \n",
       "2                              7052  \n",
       "3                              7052  \n",
       "4                              7052  "
      ]
     },
     "execution_count": 299,
     "metadata": {},
     "output_type": "execute_result"
    }
   ],
   "source": [
    "patient_characteristics= patient_characteristics.drop(['patient_gender'], axis=1)\n",
    "patient_characteristics.head()"
   ]
  },
  {
   "cell_type": "code",
   "execution_count": 300,
   "id": "e64f07f2-0e8e-4537-a0fe-da32e4a74e03",
   "metadata": {},
   "outputs": [
    {
     "data": {
      "text/plain": [
       "<Axes: >"
      ]
     },
     "execution_count": 300,
     "metadata": {},
     "output_type": "execute_result"
    },
    {
     "data": {
      "image/png": "[encoded data removed]",
      "text/plain": [
       "<Figure size 640x480 with 2 Axes>"
      ]
     },
     "metadata": {},
     "output_type": "display_data"
    }
   ],
   "source": [
    "sns.heatmap(patient_characteristics.corr(),cmap='RdBu')"
   ]
  },
  {
   "cell_type": "markdown",
   "id": "b9238623-43d8-4dc3-a238-98c57d53a5c8",
   "metadata": {
    "jp-MarkdownHeadingCollapsed": true
   },
   "source": [
    "##### Toxic Air Quality"
   ]
  },
  {
   "cell_type": "code",
   "execution_count": 301,
   "id": "9cf1e37d-3c81-4584-b3cd-002c04472318",
   "metadata": {
    "scrolled": true
   },
   "outputs": [
    {
     "data": {
      "text/plain": [
       "Ozone    29\n",
       "PM25     29\n",
       "N02      29\n",
       "dtype: int64"
      ]
     },
     "execution_count": 301,
     "metadata": {},
     "output_type": "execute_result"
    }
   ],
   "source": [
    "toxic_air_quality_data.isnull().sum()"
   ]
  },
  {
   "cell_type": "markdown",
   "id": "be30c6ec-3132-4b9f-8514-53256d227b36",
   "metadata": {
    "jp-MarkdownHeadingCollapsed": true
   },
   "source": [
    "### Putting data together"
   ]
  },
  {
   "cell_type": "code",
   "execution_count": 303,
   "id": "818e56c7-2b59-443f-a87c-0fa842bb3d02",
   "metadata": {},
   "outputs": [
    {
     "data": {
      "text/plain": [
       "Index(['Region', 'Division', 'population', 'density', 'age_median',\n",
       "       'age_under_10', 'age_10_to_19', 'age_20s', 'age_30s', 'age_40s',\n",
       "       'age_50s', 'age_60s', 'age_70s', 'age_over_80', 'male', 'female',\n",
       "       'married', 'divorced', 'never_married', 'widowed', 'family_size',\n",
       "       'family_dual_income', 'income_household_median',\n",
       "       'income_household_under_5', 'income_household_5_to_10',\n",
       "       'income_household_10_to_15', 'income_household_15_to_20',\n",
       "       'income_household_20_to_25', 'income_household_25_to_35',\n",
       "       'income_household_35_to_50', 'income_household_50_to_75',\n",
       "       'income_household_75_to_100', 'income_household_100_to_150',\n",
       "       'income_household_150_over', 'income_household_six_figure',\n",
       "       'income_individual_median', 'home_ownership', 'housing_units',\n",
       "       'home_value', 'rent_median', 'rent_burden', 'education_less_highschool',\n",
       "       'education_highschool', 'education_some_college', 'education_bachelors',\n",
       "       'education_graduate', 'education_college_or_above',\n",
       "       'education_stem_degree', 'labor_force_participation',\n",
       "       'unemployment_rate', 'self_employed', 'farmer', 'race_white',\n",
       "       'race_black', 'race_asian', 'race_native', 'race_pacific', 'race_other',\n",
       "       'race_multiple', 'hispanic', 'disabled', 'poverty', 'limited_english',\n",
       "       'commute_time', 'health_uninsured', 'veteran'],\n",
       "      dtype='object')"
      ]
     },
     "execution_count": 303,
     "metadata": {},
     "output_type": "execute_result"
    }
   ],
   "source": [
    "patient_demographics.isnull().columns"
   ]
  },
  {
   "cell_type": "code",
   "execution_count": 304,
   "id": "ea3d240a-32b7-4e59-a136-773d5285dfe8",
   "metadata": {},
   "outputs": [],
   "source": [
    "preprocessed_data_1 = patient_characteristics\n",
    "preprocessed_data_1[patient_demographics.columns] = patient_demographics\n",
    "preprocessed_data_1[toxic_air_quality_data.columns] = toxic_air_quality_data"
   ]
  },
  {
   "cell_type": "code",
   "execution_count": 305,
   "id": "735bda56-cd69-4122-b927-711425230fac",
   "metadata": {
    "scrolled": true
   },
   "outputs": [
    {
     "data": {
      "text/html": [
       "<div>\n",
       "<style scoped>\n",
       "    .dataframe tbody tr th:only-of-type {\n",
       "        vertical-align: middle;\n",
       "    }\n",
       "\n",
       "    .dataframe tbody tr th {\n",
       "        vertical-align: top;\n",
       "    }\n",
       "\n",
       "    .dataframe thead th {\n",
       "        text-align: right;\n",
       "    }\n",
       "</style>\n",
       "<table border=\"1\" class=\"dataframe\">\n",
       "  <thead>\n",
       "    <tr style=\"text-align: right;\">\n",
       "      <th></th>\n",
       "      <th>patient_race</th>\n",
       "      <th>payer_type</th>\n",
       "      <th>patient_state</th>\n",
       "      <th>patient_zip3</th>\n",
       "      <th>patient_age</th>\n",
       "      <th>bmi</th>\n",
       "      <th>breast_cancer_diagnosis_code</th>\n",
       "      <th>breast_cancer_diagnosis_desc</th>\n",
       "      <th>metastatic_cancer_diagnosis_code</th>\n",
       "      <th>Region</th>\n",
       "      <th>Division</th>\n",
       "      <th>population</th>\n",
       "      <th>density</th>\n",
       "      <th>age_median</th>\n",
       "      <th>age_under_10</th>\n",
       "      <th>age_10_to_19</th>\n",
       "      <th>age_20s</th>\n",
       "      <th>age_30s</th>\n",
       "      <th>age_40s</th>\n",
       "      <th>age_50s</th>\n",
       "      <th>age_60s</th>\n",
       "      <th>age_70s</th>\n",
       "      <th>age_over_80</th>\n",
       "      <th>male</th>\n",
       "      <th>female</th>\n",
       "      <th>married</th>\n",
       "      <th>divorced</th>\n",
       "      <th>never_married</th>\n",
       "      <th>widowed</th>\n",
       "      <th>family_size</th>\n",
       "      <th>family_dual_income</th>\n",
       "      <th>income_household_median</th>\n",
       "      <th>income_household_under_5</th>\n",
       "      <th>income_household_5_to_10</th>\n",
       "      <th>income_household_10_to_15</th>\n",
       "      <th>income_household_15_to_20</th>\n",
       "      <th>income_household_20_to_25</th>\n",
       "      <th>income_household_25_to_35</th>\n",
       "      <th>income_household_35_to_50</th>\n",
       "      <th>income_household_50_to_75</th>\n",
       "      <th>income_household_75_to_100</th>\n",
       "      <th>income_household_100_to_150</th>\n",
       "      <th>income_household_150_over</th>\n",
       "      <th>income_household_six_figure</th>\n",
       "      <th>income_individual_median</th>\n",
       "      <th>home_ownership</th>\n",
       "      <th>housing_units</th>\n",
       "      <th>home_value</th>\n",
       "      <th>rent_median</th>\n",
       "      <th>rent_burden</th>\n",
       "      <th>education_less_highschool</th>\n",
       "      <th>education_highschool</th>\n",
       "      <th>education_some_college</th>\n",
       "      <th>education_bachelors</th>\n",
       "      <th>education_graduate</th>\n",
       "      <th>education_college_or_above</th>\n",
       "      <th>education_stem_degree</th>\n",
       "      <th>labor_force_participation</th>\n",
       "      <th>unemployment_rate</th>\n",
       "      <th>self_employed</th>\n",
       "      <th>farmer</th>\n",
       "      <th>race_white</th>\n",
       "      <th>race_black</th>\n",
       "      <th>race_asian</th>\n",
       "      <th>race_native</th>\n",
       "      <th>race_pacific</th>\n",
       "      <th>race_other</th>\n",
       "      <th>race_multiple</th>\n",
       "      <th>hispanic</th>\n",
       "      <th>disabled</th>\n",
       "      <th>poverty</th>\n",
       "      <th>limited_english</th>\n",
       "      <th>commute_time</th>\n",
       "      <th>health_uninsured</th>\n",
       "      <th>veteran</th>\n",
       "      <th>Ozone</th>\n",
       "      <th>PM25</th>\n",
       "      <th>N02</th>\n",
       "    </tr>\n",
       "  </thead>\n",
       "  <tbody>\n",
       "    <tr>\n",
       "      <th>0</th>\n",
       "      <td>NaN</td>\n",
       "      <td>2569.0</td>\n",
       "      <td>2438.0</td>\n",
       "      <td>924</td>\n",
       "      <td>84.0</td>\n",
       "      <td>NaN</td>\n",
       "      <td>1467</td>\n",
       "      <td>1467</td>\n",
       "      <td>344</td>\n",
       "      <td>3735.0</td>\n",
       "      <td>2754.0</td>\n",
       "      <td>31437.75000</td>\n",
       "      <td>1189.562500</td>\n",
       "      <td>30.642857</td>\n",
       "      <td>16.014286</td>\n",
       "      <td>15.542857</td>\n",
       "      <td>17.614286</td>\n",
       "      <td>14.014286</td>\n",
       "      <td>11.614286</td>\n",
       "      <td>11.557143</td>\n",
       "      <td>7.571429</td>\n",
       "      <td>4.000000</td>\n",
       "      <td>2.100000</td>\n",
       "      <td>49.857143</td>\n",
       "      <td>50.142857</td>\n",
       "      <td>36.571429</td>\n",
       "      <td>11.885714</td>\n",
       "      <td>47.114286</td>\n",
       "      <td>4.442857</td>\n",
       "      <td>3.928571</td>\n",
       "      <td>52.228571</td>\n",
       "      <td>52996.28571</td>\n",
       "      <td>3.142857</td>\n",
       "      <td>4.000000</td>\n",
       "      <td>6.157143</td>\n",
       "      <td>5.142857</td>\n",
       "      <td>6.271429</td>\n",
       "      <td>10.142857</td>\n",
       "      <td>13.300000</td>\n",
       "      <td>20.000000</td>\n",
       "      <td>12.742857</td>\n",
       "      <td>11.571429</td>\n",
       "      <td>7.528571</td>\n",
       "      <td>19.100000</td>\n",
       "      <td>24563.57143</td>\n",
       "      <td>44.585714</td>\n",
       "      <td>8674.500000</td>\n",
       "      <td>2.646343e+05</td>\n",
       "      <td>1165.000000</td>\n",
       "      <td>37.442857</td>\n",
       "      <td>33.257143</td>\n",
       "      <td>29.200000</td>\n",
       "      <td>25.914286</td>\n",
       "      <td>8.357143</td>\n",
       "      <td>3.257143</td>\n",
       "      <td>11.614286</td>\n",
       "      <td>39.557143</td>\n",
       "      <td>61.528571</td>\n",
       "      <td>8.471429</td>\n",
       "      <td>13.428571</td>\n",
       "      <td>0.000000</td>\n",
       "      <td>44.100000</td>\n",
       "      <td>13.100000</td>\n",
       "      <td>5.100000</td>\n",
       "      <td>1.485714</td>\n",
       "      <td>0.342857</td>\n",
       "      <td>27.114286</td>\n",
       "      <td>8.757143</td>\n",
       "      <td>66.685714</td>\n",
       "      <td>12.871429</td>\n",
       "      <td>22.542857</td>\n",
       "      <td>10.100000</td>\n",
       "      <td>27.814286</td>\n",
       "      <td>11.200000</td>\n",
       "      <td>3.500000</td>\n",
       "      <td>52.237210</td>\n",
       "      <td>8.650555</td>\n",
       "      <td>18.606528</td>\n",
       "    </tr>\n",
       "    <tr>\n",
       "      <th>1</th>\n",
       "      <td>3588.0</td>\n",
       "      <td>6032.0</td>\n",
       "      <td>2438.0</td>\n",
       "      <td>928</td>\n",
       "      <td>62.0</td>\n",
       "      <td>28.49</td>\n",
       "      <td>978</td>\n",
       "      <td>978</td>\n",
       "      <td>7052</td>\n",
       "      <td>3735.0</td>\n",
       "      <td>2754.0</td>\n",
       "      <td>39121.87879</td>\n",
       "      <td>2295.939394</td>\n",
       "      <td>38.200000</td>\n",
       "      <td>11.878788</td>\n",
       "      <td>13.354545</td>\n",
       "      <td>14.230303</td>\n",
       "      <td>13.418182</td>\n",
       "      <td>13.333333</td>\n",
       "      <td>14.060606</td>\n",
       "      <td>10.248485</td>\n",
       "      <td>5.951515</td>\n",
       "      <td>3.503030</td>\n",
       "      <td>49.893939</td>\n",
       "      <td>50.106061</td>\n",
       "      <td>50.245455</td>\n",
       "      <td>9.827273</td>\n",
       "      <td>35.290909</td>\n",
       "      <td>4.651515</td>\n",
       "      <td>3.622727</td>\n",
       "      <td>61.736364</td>\n",
       "      <td>102741.63640</td>\n",
       "      <td>2.327273</td>\n",
       "      <td>1.536364</td>\n",
       "      <td>2.648485</td>\n",
       "      <td>2.178788</td>\n",
       "      <td>2.409091</td>\n",
       "      <td>5.163636</td>\n",
       "      <td>7.972727</td>\n",
       "      <td>13.936364</td>\n",
       "      <td>12.469697</td>\n",
       "      <td>19.760606</td>\n",
       "      <td>29.596970</td>\n",
       "      <td>49.357576</td>\n",
       "      <td>41287.27273</td>\n",
       "      <td>61.463636</td>\n",
       "      <td>11725.666670</td>\n",
       "      <td>6.776885e+05</td>\n",
       "      <td>2003.125000</td>\n",
       "      <td>34.753125</td>\n",
       "      <td>14.230303</td>\n",
       "      <td>19.987879</td>\n",
       "      <td>29.796970</td>\n",
       "      <td>23.739394</td>\n",
       "      <td>12.245455</td>\n",
       "      <td>35.984848</td>\n",
       "      <td>47.918182</td>\n",
       "      <td>65.230303</td>\n",
       "      <td>5.103030</td>\n",
       "      <td>15.224242</td>\n",
       "      <td>0.027273</td>\n",
       "      <td>54.030303</td>\n",
       "      <td>2.527273</td>\n",
       "      <td>20.827273</td>\n",
       "      <td>0.587879</td>\n",
       "      <td>0.300000</td>\n",
       "      <td>11.645455</td>\n",
       "      <td>10.081818</td>\n",
       "      <td>37.948485</td>\n",
       "      <td>8.957576</td>\n",
       "      <td>10.109091</td>\n",
       "      <td>8.057576</td>\n",
       "      <td>30.606061</td>\n",
       "      <td>7.018182</td>\n",
       "      <td>4.103030</td>\n",
       "      <td>42.301121</td>\n",
       "      <td>8.487175</td>\n",
       "      <td>20.113179</td>\n",
       "    </tr>\n",
       "    <tr>\n",
       "      <th>2</th>\n",
       "      <td>3588.0</td>\n",
       "      <td>6032.0</td>\n",
       "      <td>1155.0</td>\n",
       "      <td>760</td>\n",
       "      <td>NaN</td>\n",
       "      <td>38.09</td>\n",
       "      <td>209</td>\n",
       "      <td>209</td>\n",
       "      <td>7052</td>\n",
       "      <td>3919.0</td>\n",
       "      <td>1450.0</td>\n",
       "      <td>21996.68333</td>\n",
       "      <td>626.236667</td>\n",
       "      <td>37.906667</td>\n",
       "      <td>13.028333</td>\n",
       "      <td>14.463333</td>\n",
       "      <td>12.531667</td>\n",
       "      <td>13.545000</td>\n",
       "      <td>12.860000</td>\n",
       "      <td>12.770000</td>\n",
       "      <td>11.426667</td>\n",
       "      <td>6.565000</td>\n",
       "      <td>2.811667</td>\n",
       "      <td>50.123333</td>\n",
       "      <td>49.876667</td>\n",
       "      <td>55.753333</td>\n",
       "      <td>12.330000</td>\n",
       "      <td>27.195000</td>\n",
       "      <td>4.710000</td>\n",
       "      <td>3.260667</td>\n",
       "      <td>55.801667</td>\n",
       "      <td>85984.74138</td>\n",
       "      <td>2.483333</td>\n",
       "      <td>1.305000</td>\n",
       "      <td>2.716667</td>\n",
       "      <td>2.938333</td>\n",
       "      <td>2.766667</td>\n",
       "      <td>6.763333</td>\n",
       "      <td>12.061667</td>\n",
       "      <td>15.835000</td>\n",
       "      <td>13.560000</td>\n",
       "      <td>20.875000</td>\n",
       "      <td>18.680000</td>\n",
       "      <td>39.555000</td>\n",
       "      <td>40399.03333</td>\n",
       "      <td>72.745000</td>\n",
       "      <td>7786.583333</td>\n",
       "      <td>2.377131e+05</td>\n",
       "      <td>1235.907407</td>\n",
       "      <td>29.358491</td>\n",
       "      <td>10.811667</td>\n",
       "      <td>27.038333</td>\n",
       "      <td>32.368333</td>\n",
       "      <td>19.678333</td>\n",
       "      <td>10.115000</td>\n",
       "      <td>29.793333</td>\n",
       "      <td>37.308475</td>\n",
       "      <td>66.428333</td>\n",
       "      <td>4.560000</td>\n",
       "      <td>13.722034</td>\n",
       "      <td>3.650847</td>\n",
       "      <td>75.820000</td>\n",
       "      <td>9.231667</td>\n",
       "      <td>3.618333</td>\n",
       "      <td>0.463333</td>\n",
       "      <td>0.146667</td>\n",
       "      <td>3.816667</td>\n",
       "      <td>6.898333</td>\n",
       "      <td>19.370000</td>\n",
       "      <td>11.253333</td>\n",
       "      <td>9.663333</td>\n",
       "      <td>3.356667</td>\n",
       "      <td>31.394915</td>\n",
       "      <td>15.066667</td>\n",
       "      <td>7.446667</td>\n",
       "      <td>40.108207</td>\n",
       "      <td>7.642753</td>\n",
       "      <td>14.839351</td>\n",
       "    </tr>\n",
       "    <tr>\n",
       "      <th>3</th>\n",
       "      <td>3588.0</td>\n",
       "      <td>6032.0</td>\n",
       "      <td>2438.0</td>\n",
       "      <td>926</td>\n",
       "      <td>NaN</td>\n",
       "      <td>NaN</td>\n",
       "      <td>293</td>\n",
       "      <td>293</td>\n",
       "      <td>7052</td>\n",
       "      <td>3735.0</td>\n",
       "      <td>2754.0</td>\n",
       "      <td>32795.32558</td>\n",
       "      <td>1896.220930</td>\n",
       "      <td>42.871429</td>\n",
       "      <td>10.071429</td>\n",
       "      <td>12.135714</td>\n",
       "      <td>12.538095</td>\n",
       "      <td>12.464286</td>\n",
       "      <td>12.650000</td>\n",
       "      <td>14.847619</td>\n",
       "      <td>12.280952</td>\n",
       "      <td>8.216667</td>\n",
       "      <td>4.759524</td>\n",
       "      <td>49.066667</td>\n",
       "      <td>50.933333</td>\n",
       "      <td>52.604762</td>\n",
       "      <td>11.623810</td>\n",
       "      <td>31.142857</td>\n",
       "      <td>4.623810</td>\n",
       "      <td>3.098095</td>\n",
       "      <td>54.564286</td>\n",
       "      <td>120533.83330</td>\n",
       "      <td>3.435714</td>\n",
       "      <td>1.273810</td>\n",
       "      <td>2.180952</td>\n",
       "      <td>2.211905</td>\n",
       "      <td>2.100000</td>\n",
       "      <td>4.380952</td>\n",
       "      <td>5.885714</td>\n",
       "      <td>10.897619</td>\n",
       "      <td>10.721429</td>\n",
       "      <td>18.850000</td>\n",
       "      <td>38.057143</td>\n",
       "      <td>56.907143</td>\n",
       "      <td>55336.28571</td>\n",
       "      <td>59.221429</td>\n",
       "      <td>12171.302330</td>\n",
       "      <td>1.012474e+06</td>\n",
       "      <td>2354.738095</td>\n",
       "      <td>32.030952</td>\n",
       "      <td>5.835714</td>\n",
       "      <td>12.145238</td>\n",
       "      <td>26.269048</td>\n",
       "      <td>33.285714</td>\n",
       "      <td>22.459524</td>\n",
       "      <td>55.745238</td>\n",
       "      <td>48.938095</td>\n",
       "      <td>64.430952</td>\n",
       "      <td>5.264286</td>\n",
       "      <td>18.502381</td>\n",
       "      <td>0.052381</td>\n",
       "      <td>65.014286</td>\n",
       "      <td>1.438095</td>\n",
       "      <td>18.845238</td>\n",
       "      <td>0.430952</td>\n",
       "      <td>0.252381</td>\n",
       "      <td>5.428571</td>\n",
       "      <td>8.611905</td>\n",
       "      <td>16.716667</td>\n",
       "      <td>8.845238</td>\n",
       "      <td>8.688095</td>\n",
       "      <td>5.280952</td>\n",
       "      <td>27.561905</td>\n",
       "      <td>4.404762</td>\n",
       "      <td>4.809524</td>\n",
       "      <td>42.070075</td>\n",
       "      <td>7.229393</td>\n",
       "      <td>15.894123</td>\n",
       "    </tr>\n",
       "    <tr>\n",
       "      <th>4</th>\n",
       "      <td>NaN</td>\n",
       "      <td>6032.0</td>\n",
       "      <td>93.0</td>\n",
       "      <td>836</td>\n",
       "      <td>55.0</td>\n",
       "      <td>NaN</td>\n",
       "      <td>1982</td>\n",
       "      <td>1982</td>\n",
       "      <td>7052</td>\n",
       "      <td>3735.0</td>\n",
       "      <td>981.0</td>\n",
       "      <td>10886.26000</td>\n",
       "      <td>116.886000</td>\n",
       "      <td>43.473469</td>\n",
       "      <td>10.824000</td>\n",
       "      <td>13.976000</td>\n",
       "      <td>9.492000</td>\n",
       "      <td>10.364000</td>\n",
       "      <td>12.600000</td>\n",
       "      <td>14.992000</td>\n",
       "      <td>14.836000</td>\n",
       "      <td>9.462000</td>\n",
       "      <td>3.466000</td>\n",
       "      <td>52.312000</td>\n",
       "      <td>47.688000</td>\n",
       "      <td>57.882000</td>\n",
       "      <td>14.964000</td>\n",
       "      <td>21.760000</td>\n",
       "      <td>5.406000</td>\n",
       "      <td>3.352653</td>\n",
       "      <td>47.214286</td>\n",
       "      <td>61075.13043</td>\n",
       "      <td>2.594000</td>\n",
       "      <td>1.960000</td>\n",
       "      <td>3.168000</td>\n",
       "      <td>3.240000</td>\n",
       "      <td>4.778000</td>\n",
       "      <td>11.462000</td>\n",
       "      <td>15.656000</td>\n",
       "      <td>22.432000</td>\n",
       "      <td>12.480000</td>\n",
       "      <td>13.620000</td>\n",
       "      <td>8.606000</td>\n",
       "      <td>22.226000</td>\n",
       "      <td>29073.18367</td>\n",
       "      <td>77.098000</td>\n",
       "      <td>3768.060000</td>\n",
       "      <td>2.498457e+05</td>\n",
       "      <td>919.743590</td>\n",
       "      <td>27.029730</td>\n",
       "      <td>11.576000</td>\n",
       "      <td>29.590000</td>\n",
       "      <td>39.168000</td>\n",
       "      <td>13.978000</td>\n",
       "      <td>5.684000</td>\n",
       "      <td>19.662000</td>\n",
       "      <td>42.332653</td>\n",
       "      <td>57.488000</td>\n",
       "      <td>4.258000</td>\n",
       "      <td>13.029545</td>\n",
       "      <td>6.890909</td>\n",
       "      <td>86.712000</td>\n",
       "      <td>0.426000</td>\n",
       "      <td>0.656000</td>\n",
       "      <td>0.760000</td>\n",
       "      <td>0.108000</td>\n",
       "      <td>5.080000</td>\n",
       "      <td>6.258000</td>\n",
       "      <td>13.334000</td>\n",
       "      <td>15.276000</td>\n",
       "      <td>11.224000</td>\n",
       "      <td>1.946000</td>\n",
       "      <td>26.170213</td>\n",
       "      <td>12.088000</td>\n",
       "      <td>13.106000</td>\n",
       "      <td>41.356058</td>\n",
       "      <td>4.110749</td>\n",
       "      <td>11.722197</td>\n",
       "    </tr>\n",
       "  </tbody>\n",
       "</table>\n",
       "</div>"
      ],
      "text/plain": [
       "   patient_race  payer_type  patient_state  patient_zip3  patient_age    bmi  \\\n",
       "0           NaN      2569.0         2438.0           924         84.0    NaN   \n",
       "1        3588.0      6032.0         2438.0           928         62.0  28.49   \n",
       "2        3588.0      6032.0         1155.0           760          NaN  38.09   \n",
       "3        3588.0      6032.0         2438.0           926          NaN    NaN   \n",
       "4           NaN      6032.0           93.0           836         55.0    NaN   \n",
       "\n",
       "   breast_cancer_diagnosis_code  breast_cancer_diagnosis_desc  \\\n",
       "0                          1467                          1467   \n",
       "1                           978                           978   \n",
       "2                           209                           209   \n",
       "3                           293                           293   \n",
       "4                          1982                          1982   \n",
       "\n",
       "   metastatic_cancer_diagnosis_code  Region  Division   population  \\\n",
       "0                               344  3735.0    2754.0  31437.75000   \n",
       "1                              7052  3735.0    2754.0  39121.87879   \n",
       "2                              7052  3919.0    1450.0  21996.68333   \n",
       "3                              7052  3735.0    2754.0  32795.32558   \n",
       "4                              7052  3735.0     981.0  10886.26000   \n",
       "\n",
       "       density  age_median  age_under_10  age_10_to_19    age_20s    age_30s  \\\n",
       "0  1189.562500   30.642857     16.014286     15.542857  17.614286  14.014286   \n",
       "1  2295.939394   38.200000     11.878788     13.354545  14.230303  13.418182   \n",
       "2   626.236667   37.906667     13.028333     14.463333  12.531667  13.545000   \n",
       "3  1896.220930   42.871429     10.071429     12.135714  12.538095  12.464286   \n",
       "4   116.886000   43.473469     10.824000     13.976000   9.492000  10.364000   \n",
       "\n",
       "     age_40s    age_50s    age_60s   age_70s  age_over_80       male  \\\n",
       "0  11.614286  11.557143   7.571429  4.000000     2.100000  49.857143   \n",
       "1  13.333333  14.060606  10.248485  5.951515     3.503030  49.893939   \n",
       "2  12.860000  12.770000  11.426667  6.565000     2.811667  50.123333   \n",
       "3  12.650000  14.847619  12.280952  8.216667     4.759524  49.066667   \n",
       "4  12.600000  14.992000  14.836000  9.462000     3.466000  52.312000   \n",
       "\n",
       "      female    married   divorced  never_married   widowed  family_size  \\\n",
       "0  50.142857  36.571429  11.885714      47.114286  4.442857     3.928571   \n",
       "1  50.106061  50.245455   9.827273      35.290909  4.651515     3.622727   \n",
       "2  49.876667  55.753333  12.330000      27.195000  4.710000     3.260667   \n",
       "3  50.933333  52.604762  11.623810      31.142857  4.623810     3.098095   \n",
       "4  47.688000  57.882000  14.964000      21.760000  5.406000     3.352653   \n",
       "\n",
       "   family_dual_income  income_household_median  income_household_under_5  \\\n",
       "0           52.228571              52996.28571                  3.142857   \n",
       "1           61.736364             102741.63640                  2.327273   \n",
       "2           55.801667              85984.74138                  2.483333   \n",
       "3           54.564286             120533.83330                  3.435714   \n",
       "4           47.214286              61075.13043                  2.594000   \n",
       "\n",
       "   income_household_5_to_10  income_household_10_to_15  \\\n",
       "0                  4.000000                   6.157143   \n",
       "1                  1.536364                   2.648485   \n",
       "2                  1.305000                   2.716667   \n",
       "3                  1.273810                   2.180952   \n",
       "4                  1.960000                   3.168000   \n",
       "\n",
       "   income_household_15_to_20  income_household_20_to_25  \\\n",
       "0                   5.142857                   6.271429   \n",
       "1                   2.178788                   2.409091   \n",
       "2                   2.938333                   2.766667   \n",
       "3                   2.211905                   2.100000   \n",
       "4                   3.240000                   4.778000   \n",
       "\n",
       "   income_household_25_to_35  income_household_35_to_50  \\\n",
       "0                  10.142857                  13.300000   \n",
       "1                   5.163636                   7.972727   \n",
       "2                   6.763333                  12.061667   \n",
       "3                   4.380952                   5.885714   \n",
       "4                  11.462000                  15.656000   \n",
       "\n",
       "   income_household_50_to_75  income_household_75_to_100  \\\n",
       "0                  20.000000                   12.742857   \n",
       "1                  13.936364                   12.469697   \n",
       "2                  15.835000                   13.560000   \n",
       "3                  10.897619                   10.721429   \n",
       "4                  22.432000                   12.480000   \n",
       "\n",
       "   income_household_100_to_150  income_household_150_over  \\\n",
       "0                    11.571429                   7.528571   \n",
       "1                    19.760606                  29.596970   \n",
       "2                    20.875000                  18.680000   \n",
       "3                    18.850000                  38.057143   \n",
       "4                    13.620000                   8.606000   \n",
       "\n",
       "   income_household_six_figure  income_individual_median  home_ownership  \\\n",
       "0                    19.100000               24563.57143       44.585714   \n",
       "1                    49.357576               41287.27273       61.463636   \n",
       "2                    39.555000               40399.03333       72.745000   \n",
       "3                    56.907143               55336.28571       59.221429   \n",
       "4                    22.226000               29073.18367       77.098000   \n",
       "\n",
       "   housing_units    home_value  rent_median  rent_burden  \\\n",
       "0    8674.500000  2.646343e+05  1165.000000    37.442857   \n",
       "1   11725.666670  6.776885e+05  2003.125000    34.753125   \n",
       "2    7786.583333  2.377131e+05  1235.907407    29.358491   \n",
       "3   12171.302330  1.012474e+06  2354.738095    32.030952   \n",
       "4    3768.060000  2.498457e+05   919.743590    27.029730   \n",
       "\n",
       "   education_less_highschool  education_highschool  education_some_college  \\\n",
       "0                  33.257143             29.200000               25.914286   \n",
       "1                  14.230303             19.987879               29.796970   \n",
       "2                  10.811667             27.038333               32.368333   \n",
       "3                   5.835714             12.145238               26.269048   \n",
       "4                  11.576000             29.590000               39.168000   \n",
       "\n",
       "   education_bachelors  education_graduate  education_college_or_above  \\\n",
       "0             8.357143            3.257143                   11.614286   \n",
       "1            23.739394           12.245455                   35.984848   \n",
       "2            19.678333           10.115000                   29.793333   \n",
       "3            33.285714           22.459524                   55.745238   \n",
       "4            13.978000            5.684000                   19.662000   \n",
       "\n",
       "   education_stem_degree  labor_force_participation  unemployment_rate  \\\n",
       "0              39.557143                  61.528571           8.471429   \n",
       "1              47.918182                  65.230303           5.103030   \n",
       "2              37.308475                  66.428333           4.560000   \n",
       "3              48.938095                  64.430952           5.264286   \n",
       "4              42.332653                  57.488000           4.258000   \n",
       "\n",
       "   self_employed    farmer  race_white  race_black  race_asian  race_native  \\\n",
       "0      13.428571  0.000000   44.100000   13.100000    5.100000     1.485714   \n",
       "1      15.224242  0.027273   54.030303    2.527273   20.827273     0.587879   \n",
       "2      13.722034  3.650847   75.820000    9.231667    3.618333     0.463333   \n",
       "3      18.502381  0.052381   65.014286    1.438095   18.845238     0.430952   \n",
       "4      13.029545  6.890909   86.712000    0.426000    0.656000     0.760000   \n",
       "\n",
       "   race_pacific  race_other  race_multiple   hispanic   disabled    poverty  \\\n",
       "0      0.342857   27.114286       8.757143  66.685714  12.871429  22.542857   \n",
       "1      0.300000   11.645455      10.081818  37.948485   8.957576  10.109091   \n",
       "2      0.146667    3.816667       6.898333  19.370000  11.253333   9.663333   \n",
       "3      0.252381    5.428571       8.611905  16.716667   8.845238   8.688095   \n",
       "4      0.108000    5.080000       6.258000  13.334000  15.276000  11.224000   \n",
       "\n",
       "   limited_english  commute_time  health_uninsured    veteran      Ozone  \\\n",
       "0        10.100000     27.814286         11.200000   3.500000  52.237210   \n",
       "1         8.057576     30.606061          7.018182   4.103030  42.301121   \n",
       "2         3.356667     31.394915         15.066667   7.446667  40.108207   \n",
       "3         5.280952     27.561905          4.404762   4.809524  42.070075   \n",
       "4         1.946000     26.170213         12.088000  13.106000  41.356058   \n",
       "\n",
       "       PM25        N02  \n",
       "0  8.650555  18.606528  \n",
       "1  8.487175  20.113179  \n",
       "2  7.642753  14.839351  \n",
       "3  7.229393  15.894123  \n",
       "4  4.110749  11.722197  "
      ]
     },
     "execution_count": 305,
     "metadata": {},
     "output_type": "execute_result"
    }
   ],
   "source": [
    "preprocessed_data_1.head()"
   ]
  },
  {
   "cell_type": "markdown",
   "id": "e4e17d47-a91a-40b7-89df-ea8b127045ab",
   "metadata": {
    "jp-MarkdownHeadingCollapsed": true
   },
   "source": [
    "## Fixing missing_values"
   ]
  },
  {
   "cell_type": "code",
   "execution_count": 515,
   "id": "76757c43-1e32-4260-a60a-bff38517be5a",
   "metadata": {},
   "outputs": [],
   "source": [
    "preprocessed_data_1= preprocessed_data_1.dropna(subset=patient_demographics.columns, axis =0)"
   ]
  },
  {
   "cell_type": "code",
   "execution_count": 307,
   "id": "f3553da9-0f48-4049-a0e9-d08660cd9771",
   "metadata": {},
   "outputs": [],
   "source": [
    "preprocessed_data_2= preprocessed_data_1.dropna(subset=toxic_air_quality_data.columns, axis =0)"
   ]
  },
  {
   "cell_type": "code",
   "execution_count": 308,
   "id": "fe7399ee-6596-4c04-bd50-11c0a82c1c7d",
   "metadata": {},
   "outputs": [
    {
     "data": {
      "text/plain": [
       "array([  nan, 3588.,  683.,  829.,  365., 1056.])"
      ]
     },
     "execution_count": 308,
     "metadata": {},
     "output_type": "execute_result"
    }
   ],
   "source": [
    "preprocessed_data_2['patient_race'].unique()"
   ]
  },
  {
   "cell_type": "code",
   "execution_count": 309,
   "id": "7b2a1da0-e333-47a2-aced-5f466f9b0474",
   "metadata": {},
   "outputs": [],
   "source": [
    "m = preprocessed_data_2.isnull().sum().sort_values()"
   ]
  },
  {
   "cell_type": "code",
   "execution_count": 519,
   "id": "15c0a202-d428-4e0e-8db1-2a9039baf8d3",
   "metadata": {},
   "outputs": [],
   "source": [
    "from sklearn.impute import KNNImputer\n",
    "imputer = KNNImputer(n_neighbors=10, metric='nan_euclidean', weights='uniform')\n",
    "X_imputed = imputer.fit_transform(preprocessed_data_2['patient_race'].values.reshape(-1,1))"
   ]
  },
  {
   "cell_type": "code",
   "execution_count": 520,
   "id": "ad1ddf4c-1790-4ce9-a42c-1a3f9ff3e8ac",
   "metadata": {},
   "outputs": [
    {
     "data": {
      "text/plain": [
       "array([ 365.        ,  683.        ,  829.        , 1056.        ,\n",
       "       2294.74664401, 3588.        ])"
      ]
     },
     "execution_count": 520,
     "metadata": {},
     "output_type": "execute_result"
    }
   ],
   "source": [
    "np.unique(X_imputed)"
   ]
  },
  {
   "cell_type": "code",
   "execution_count": 521,
   "id": "c94ce93e-d070-419f-8cf4-f2ec92908a29",
   "metadata": {},
   "outputs": [
    {
     "name": "stderr",
     "output_type": "stream",
     "text": [
      "C:\\Users\\User\\AppData\\Local\\Temp\\ipykernel_18108\\3141491721.py:1: SettingWithCopyWarning: \n",
      "A value is trying to be set on a copy of a slice from a DataFrame.\n",
      "Try using .loc[row_indexer,col_indexer] = value instead\n",
      "\n",
      "See the caveats in the documentation: https://pandas.pydata.org/pandas-docs/stable/user_guide/indexing.html#returning-a-view-versus-a-copy\n",
      "  preprocessed_data_2['patient_race'] = X_imputed\n"
     ]
    }
   ],
   "source": [
    "preprocessed_data_2['patient_race'] = X_imputed"
   ]
  },
  {
   "cell_type": "code",
   "execution_count": 522,
   "id": "854d9c41-f4b5-4b28-9034-4dde65d9ac81",
   "metadata": {},
   "outputs": [
    {
     "name": "stdout",
     "output_type": "stream",
     "text": [
      "<class 'pandas.core.frame.DataFrame'>\n",
      "Index: 11539 entries, 0 to 12905\n",
      "Data columns (total 78 columns):\n",
      " #   Column                            Non-Null Count  Dtype  \n",
      "---  ------                            --------------  -----  \n",
      " 0   patient_race                      11539 non-null  float64\n",
      " 1   payer_type                        11539 non-null  float64\n",
      " 2   patient_state                     11539 non-null  float64\n",
      " 3   patient_zip3                      11539 non-null  int64  \n",
      " 4   patient_age                       11539 non-null  float64\n",
      " 5   bmi                               11539 non-null  float64\n",
      " 6   breast_cancer_diagnosis_code      11539 non-null  int64  \n",
      " 7   breast_cancer_diagnosis_desc      11539 non-null  int64  \n",
      " 8   metastatic_cancer_diagnosis_code  11539 non-null  int64  \n",
      " 9   Region                            11539 non-null  float64\n",
      " 10  Division                          11539 non-null  float64\n",
      " 11  population                        11539 non-null  float64\n",
      " 12  density                           11539 non-null  float64\n",
      " 13  age_median                        11539 non-null  float64\n",
      " 14  age_under_10                      11539 non-null  float64\n",
      " 15  age_10_to_19                      11539 non-null  float64\n",
      " 16  age_20s                           11539 non-null  float64\n",
      " 17  age_30s                           11539 non-null  float64\n",
      " 18  age_40s                           11539 non-null  float64\n",
      " 19  age_50s                           11539 non-null  float64\n",
      " 20  age_60s                           11539 non-null  float64\n",
      " 21  age_70s                           11539 non-null  float64\n",
      " 22  age_over_80                       11539 non-null  float64\n",
      " 23  male                              11539 non-null  float64\n",
      " 24  female                            11539 non-null  float64\n",
      " 25  married                           11539 non-null  float64\n",
      " 26  divorced                          11539 non-null  float64\n",
      " 27  never_married                     11539 non-null  float64\n",
      " 28  widowed                           11539 non-null  float64\n",
      " 29  family_size                       11539 non-null  float64\n",
      " 30  family_dual_income                11539 non-null  float64\n",
      " 31  income_household_median           11539 non-null  float64\n",
      " 32  income_household_under_5          11539 non-null  float64\n",
      " 33  income_household_5_to_10          11539 non-null  float64\n",
      " 34  income_household_10_to_15         11539 non-null  float64\n",
      " 35  income_household_15_to_20         11539 non-null  float64\n",
      " 36  income_household_20_to_25         11539 non-null  float64\n",
      " 37  income_household_25_to_35         11539 non-null  float64\n",
      " 38  income_household_35_to_50         11539 non-null  float64\n",
      " 39  income_household_50_to_75         11539 non-null  float64\n",
      " 40  income_household_75_to_100        11539 non-null  float64\n",
      " 41  income_household_100_to_150       11539 non-null  float64\n",
      " 42  income_household_150_over         11539 non-null  float64\n",
      " 43  income_household_six_figure       11539 non-null  float64\n",
      " 44  income_individual_median          11539 non-null  float64\n",
      " 45  home_ownership                    11539 non-null  float64\n",
      " 46  housing_units                     11539 non-null  float64\n",
      " 47  home_value                        11539 non-null  float64\n",
      " 48  rent_median                       11539 non-null  float64\n",
      " 49  rent_burden                       11539 non-null  float64\n",
      " 50  education_less_highschool         11539 non-null  float64\n",
      " 51  education_highschool              11539 non-null  float64\n",
      " 52  education_some_college            11539 non-null  float64\n",
      " 53  education_bachelors               11539 non-null  float64\n",
      " 54  education_graduate                11539 non-null  float64\n",
      " 55  education_college_or_above        11539 non-null  float64\n",
      " 56  education_stem_degree             11539 non-null  float64\n",
      " 57  labor_force_participation         11539 non-null  float64\n",
      " 58  unemployment_rate                 11539 non-null  float64\n",
      " 59  self_employed                     11539 non-null  float64\n",
      " 60  farmer                            11539 non-null  float64\n",
      " 61  race_white                        11539 non-null  float64\n",
      " 62  race_black                        11539 non-null  float64\n",
      " 63  race_asian                        11539 non-null  float64\n",
      " 64  race_native                       11539 non-null  float64\n",
      " 65  race_pacific                      11539 non-null  float64\n",
      " 66  race_other                        11539 non-null  float64\n",
      " 67  race_multiple                     11539 non-null  float64\n",
      " 68  hispanic                          11539 non-null  float64\n",
      " 69  disabled                          11539 non-null  float64\n",
      " 70  poverty                           11539 non-null  float64\n",
      " 71  limited_english                   11539 non-null  float64\n",
      " 72  commute_time                      11539 non-null  float64\n",
      " 73  health_uninsured                  11539 non-null  float64\n",
      " 74  veteran                           11539 non-null  float64\n",
      " 75  Ozone                             11539 non-null  float64\n",
      " 76  PM25                              11539 non-null  float64\n",
      " 77  N02                               11539 non-null  float64\n",
      "dtypes: float64(74), int64(4)\n",
      "memory usage: 7.0 MB\n"
     ]
    }
   ],
   "source": [
    "preprocessed_data_2.info()"
   ]
  },
  {
   "cell_type": "code",
   "execution_count": 523,
   "id": "c231bf64-4a70-4652-ba95-92db0a8b8725",
   "metadata": {},
   "outputs": [],
   "source": [
    "imputer = KNNImputer(n_neighbors=3, metric='nan_euclidean', weights='uniform')\n",
    "X2_imputed = imputer.fit_transform(preprocessed_data_2['payer_type'].values.reshape(-1,1))"
   ]
  },
  {
   "cell_type": "code",
   "execution_count": 524,
   "id": "0d93a445-0df4-4276-8352-c06cb3505bf9",
   "metadata": {
    "scrolled": true
   },
   "outputs": [
    {
     "name": "stderr",
     "output_type": "stream",
     "text": [
      "C:\\Users\\User\\AppData\\Local\\Temp\\ipykernel_18108\\941976247.py:1: SettingWithCopyWarning: \n",
      "A value is trying to be set on a copy of a slice from a DataFrame.\n",
      "Try using .loc[row_indexer,col_indexer] = value instead\n",
      "\n",
      "See the caveats in the documentation: https://pandas.pydata.org/pandas-docs/stable/user_guide/indexing.html#returning-a-view-versus-a-copy\n",
      "  preprocessed_data_2['payer_type'] = X2_imputed\n"
     ]
    }
   ],
   "source": [
    "preprocessed_data_2['payer_type'] = X2_imputed"
   ]
  },
  {
   "cell_type": "code",
   "execution_count": 525,
   "id": "49a6a3eb-158c-4648-81f9-f609145fae15",
   "metadata": {},
   "outputs": [
    {
     "name": "stdout",
     "output_type": "stream",
     "text": [
      "<class 'pandas.core.frame.DataFrame'>\n",
      "Index: 11539 entries, 0 to 12905\n",
      "Data columns (total 78 columns):\n",
      " #   Column                            Non-Null Count  Dtype  \n",
      "---  ------                            --------------  -----  \n",
      " 0   patient_race                      11539 non-null  float64\n",
      " 1   payer_type                        11539 non-null  float64\n",
      " 2   patient_state                     11539 non-null  float64\n",
      " 3   patient_zip3                      11539 non-null  int64  \n",
      " 4   patient_age                       11539 non-null  float64\n",
      " 5   bmi                               11539 non-null  float64\n",
      " 6   breast_cancer_diagnosis_code      11539 non-null  int64  \n",
      " 7   breast_cancer_diagnosis_desc      11539 non-null  int64  \n",
      " 8   metastatic_cancer_diagnosis_code  11539 non-null  int64  \n",
      " 9   Region                            11539 non-null  float64\n",
      " 10  Division                          11539 non-null  float64\n",
      " 11  population                        11539 non-null  float64\n",
      " 12  density                           11539 non-null  float64\n",
      " 13  age_median                        11539 non-null  float64\n",
      " 14  age_under_10                      11539 non-null  float64\n",
      " 15  age_10_to_19                      11539 non-null  float64\n",
      " 16  age_20s                           11539 non-null  float64\n",
      " 17  age_30s                           11539 non-null  float64\n",
      " 18  age_40s                           11539 non-null  float64\n",
      " 19  age_50s                           11539 non-null  float64\n",
      " 20  age_60s                           11539 non-null  float64\n",
      " 21  age_70s                           11539 non-null  float64\n",
      " 22  age_over_80                       11539 non-null  float64\n",
      " 23  male                              11539 non-null  float64\n",
      " 24  female                            11539 non-null  float64\n",
      " 25  married                           11539 non-null  float64\n",
      " 26  divorced                          11539 non-null  float64\n",
      " 27  never_married                     11539 non-null  float64\n",
      " 28  widowed                           11539 non-null  float64\n",
      " 29  family_size                       11539 non-null  float64\n",
      " 30  family_dual_income                11539 non-null  float64\n",
      " 31  income_household_median           11539 non-null  float64\n",
      " 32  income_household_under_5          11539 non-null  float64\n",
      " 33  income_household_5_to_10          11539 non-null  float64\n",
      " 34  income_household_10_to_15         11539 non-null  float64\n",
      " 35  income_household_15_to_20         11539 non-null  float64\n",
      " 36  income_household_20_to_25         11539 non-null  float64\n",
      " 37  income_household_25_to_35         11539 non-null  float64\n",
      " 38  income_household_35_to_50         11539 non-null  float64\n",
      " 39  income_household_50_to_75         11539 non-null  float64\n",
      " 40  income_household_75_to_100        11539 non-null  float64\n",
      " 41  income_household_100_to_150       11539 non-null  float64\n",
      " 42  income_household_150_over         11539 non-null  float64\n",
      " 43  income_household_six_figure       11539 non-null  float64\n",
      " 44  income_individual_median          11539 non-null  float64\n",
      " 45  home_ownership                    11539 non-null  float64\n",
      " 46  housing_units                     11539 non-null  float64\n",
      " 47  home_value                        11539 non-null  float64\n",
      " 48  rent_median                       11539 non-null  float64\n",
      " 49  rent_burden                       11539 non-null  float64\n",
      " 50  education_less_highschool         11539 non-null  float64\n",
      " 51  education_highschool              11539 non-null  float64\n",
      " 52  education_some_college            11539 non-null  float64\n",
      " 53  education_bachelors               11539 non-null  float64\n",
      " 54  education_graduate                11539 non-null  float64\n",
      " 55  education_college_or_above        11539 non-null  float64\n",
      " 56  education_stem_degree             11539 non-null  float64\n",
      " 57  labor_force_participation         11539 non-null  float64\n",
      " 58  unemployment_rate                 11539 non-null  float64\n",
      " 59  self_employed                     11539 non-null  float64\n",
      " 60  farmer                            11539 non-null  float64\n",
      " 61  race_white                        11539 non-null  float64\n",
      " 62  race_black                        11539 non-null  float64\n",
      " 63  race_asian                        11539 non-null  float64\n",
      " 64  race_native                       11539 non-null  float64\n",
      " 65  race_pacific                      11539 non-null  float64\n",
      " 66  race_other                        11539 non-null  float64\n",
      " 67  race_multiple                     11539 non-null  float64\n",
      " 68  hispanic                          11539 non-null  float64\n",
      " 69  disabled                          11539 non-null  float64\n",
      " 70  poverty                           11539 non-null  float64\n",
      " 71  limited_english                   11539 non-null  float64\n",
      " 72  commute_time                      11539 non-null  float64\n",
      " 73  health_uninsured                  11539 non-null  float64\n",
      " 74  veteran                           11539 non-null  float64\n",
      " 75  Ozone                             11539 non-null  float64\n",
      " 76  PM25                              11539 non-null  float64\n",
      " 77  N02                               11539 non-null  float64\n",
      "dtypes: float64(74), int64(4)\n",
      "memory usage: 7.0 MB\n"
     ]
    }
   ],
   "source": [
    "preprocessed_data_2.info()"
   ]
  },
  {
   "cell_type": "code",
   "execution_count": 526,
   "id": "00fc9b31-2899-4755-b936-8ddd1aa29bd2",
   "metadata": {},
   "outputs": [
    {
     "name": "stderr",
     "output_type": "stream",
     "text": [
      "C:\\Users\\User\\AppData\\Local\\Temp\\ipykernel_18108\\1248319992.py:1: SettingWithCopyWarning: \n",
      "A value is trying to be set on a copy of a slice from a DataFrame.\n",
      "Try using .loc[row_indexer,col_indexer] = value instead\n",
      "\n",
      "See the caveats in the documentation: https://pandas.pydata.org/pandas-docs/stable/user_guide/indexing.html#returning-a-view-versus-a-copy\n",
      "  preprocessed_data_2['bmi'] = preprocessed_data_2['bmi'].fillna(preprocessed_data_2['bmi'].mean())\n"
     ]
    }
   ],
   "source": [
    "preprocessed_data_2['bmi'] = preprocessed_data_2['bmi'].fillna(preprocessed_data_2['bmi'].mean())"
   ]
  },
  {
   "cell_type": "code",
   "execution_count": 527,
   "id": "87cbfb86-0d63-4779-a336-0e1eca1b212f",
   "metadata": {},
   "outputs": [
    {
     "name": "stderr",
     "output_type": "stream",
     "text": [
      "C:\\Users\\User\\AppData\\Local\\Temp\\ipykernel_18108\\4098758525.py:1: SettingWithCopyWarning: \n",
      "A value is trying to be set on a copy of a slice from a DataFrame.\n",
      "Try using .loc[row_indexer,col_indexer] = value instead\n",
      "\n",
      "See the caveats in the documentation: https://pandas.pydata.org/pandas-docs/stable/user_guide/indexing.html#returning-a-view-versus-a-copy\n",
      "  preprocessed_data_2['patient_age'] = preprocessed_data_2['patient_age'].fillna(preprocessed_data_2['patient_age'].mean())\n"
     ]
    }
   ],
   "source": [
    "preprocessed_data_2['patient_age'] = preprocessed_data_2['patient_age'].fillna(preprocessed_data_2['patient_age'].mean())"
   ]
  },
  {
   "cell_type": "code",
   "execution_count": 528,
   "id": "6028f963-6f74-4bca-9709-402d3de46606",
   "metadata": {},
   "outputs": [
    {
     "name": "stdout",
     "output_type": "stream",
     "text": [
      "<class 'pandas.core.frame.DataFrame'>\n",
      "Index: 11539 entries, 0 to 12905\n",
      "Data columns (total 78 columns):\n",
      " #   Column                            Non-Null Count  Dtype  \n",
      "---  ------                            --------------  -----  \n",
      " 0   patient_race                      11539 non-null  float64\n",
      " 1   payer_type                        11539 non-null  float64\n",
      " 2   patient_state                     11539 non-null  float64\n",
      " 3   patient_zip3                      11539 non-null  int64  \n",
      " 4   patient_age                       11539 non-null  float64\n",
      " 5   bmi                               11539 non-null  float64\n",
      " 6   breast_cancer_diagnosis_code      11539 non-null  int64  \n",
      " 7   breast_cancer_diagnosis_desc      11539 non-null  int64  \n",
      " 8   metastatic_cancer_diagnosis_code  11539 non-null  int64  \n",
      " 9   Region                            11539 non-null  float64\n",
      " 10  Division                          11539 non-null  float64\n",
      " 11  population                        11539 non-null  float64\n",
      " 12  density                           11539 non-null  float64\n",
      " 13  age_median                        11539 non-null  float64\n",
      " 14  age_under_10                      11539 non-null  float64\n",
      " 15  age_10_to_19                      11539 non-null  float64\n",
      " 16  age_20s                           11539 non-null  float64\n",
      " 17  age_30s                           11539 non-null  float64\n",
      " 18  age_40s                           11539 non-null  float64\n",
      " 19  age_50s                           11539 non-null  float64\n",
      " 20  age_60s                           11539 non-null  float64\n",
      " 21  age_70s                           11539 non-null  float64\n",
      " 22  age_over_80                       11539 non-null  float64\n",
      " 23  male                              11539 non-null  float64\n",
      " 24  female                            11539 non-null  float64\n",
      " 25  married                           11539 non-null  float64\n",
      " 26  divorced                          11539 non-null  float64\n",
      " 27  never_married                     11539 non-null  float64\n",
      " 28  widowed                           11539 non-null  float64\n",
      " 29  family_size                       11539 non-null  float64\n",
      " 30  family_dual_income                11539 non-null  float64\n",
      " 31  income_household_median           11539 non-null  float64\n",
      " 32  income_household_under_5          11539 non-null  float64\n",
      " 33  income_household_5_to_10          11539 non-null  float64\n",
      " 34  income_household_10_to_15         11539 non-null  float64\n",
      " 35  income_household_15_to_20         11539 non-null  float64\n",
      " 36  income_household_20_to_25         11539 non-null  float64\n",
      " 37  income_household_25_to_35         11539 non-null  float64\n",
      " 38  income_household_35_to_50         11539 non-null  float64\n",
      " 39  income_household_50_to_75         11539 non-null  float64\n",
      " 40  income_household_75_to_100        11539 non-null  float64\n",
      " 41  income_household_100_to_150       11539 non-null  float64\n",
      " 42  income_household_150_over         11539 non-null  float64\n",
      " 43  income_household_six_figure       11539 non-null  float64\n",
      " 44  income_individual_median          11539 non-null  float64\n",
      " 45  home_ownership                    11539 non-null  float64\n",
      " 46  housing_units                     11539 non-null  float64\n",
      " 47  home_value                        11539 non-null  float64\n",
      " 48  rent_median                       11539 non-null  float64\n",
      " 49  rent_burden                       11539 non-null  float64\n",
      " 50  education_less_highschool         11539 non-null  float64\n",
      " 51  education_highschool              11539 non-null  float64\n",
      " 52  education_some_college            11539 non-null  float64\n",
      " 53  education_bachelors               11539 non-null  float64\n",
      " 54  education_graduate                11539 non-null  float64\n",
      " 55  education_college_or_above        11539 non-null  float64\n",
      " 56  education_stem_degree             11539 non-null  float64\n",
      " 57  labor_force_participation         11539 non-null  float64\n",
      " 58  unemployment_rate                 11539 non-null  float64\n",
      " 59  self_employed                     11539 non-null  float64\n",
      " 60  farmer                            11539 non-null  float64\n",
      " 61  race_white                        11539 non-null  float64\n",
      " 62  race_black                        11539 non-null  float64\n",
      " 63  race_asian                        11539 non-null  float64\n",
      " 64  race_native                       11539 non-null  float64\n",
      " 65  race_pacific                      11539 non-null  float64\n",
      " 66  race_other                        11539 non-null  float64\n",
      " 67  race_multiple                     11539 non-null  float64\n",
      " 68  hispanic                          11539 non-null  float64\n",
      " 69  disabled                          11539 non-null  float64\n",
      " 70  poverty                           11539 non-null  float64\n",
      " 71  limited_english                   11539 non-null  float64\n",
      " 72  commute_time                      11539 non-null  float64\n",
      " 73  health_uninsured                  11539 non-null  float64\n",
      " 74  veteran                           11539 non-null  float64\n",
      " 75  Ozone                             11539 non-null  float64\n",
      " 76  PM25                              11539 non-null  float64\n",
      " 77  N02                               11539 non-null  float64\n",
      "dtypes: float64(74), int64(4)\n",
      "memory usage: 7.0 MB\n"
     ]
    }
   ],
   "source": [
    "preprocessed_data_2.info()"
   ]
  },
  {
   "cell_type": "code",
   "execution_count": 529,
   "id": "f094987c-e4e9-429d-a697-68b279e48530",
   "metadata": {
    "scrolled": true
   },
   "outputs": [
    {
     "data": {
      "text/plain": [
       "Index([    0,     1,     2,     3,     4,     5,     6,    10,    11,    12,\n",
       "       ...\n",
       "       12895, 12896, 12897, 12898, 12900, 12901, 12902, 12903, 12904, 12905],\n",
       "      dtype='int64', length=11539)"
      ]
     },
     "execution_count": 529,
     "metadata": {},
     "output_type": "execute_result"
    }
   ],
   "source": [
    "preprocessed_data_2.index"
   ]
  },
  {
   "cell_type": "markdown",
   "id": "6a2089f4-04cf-411d-837a-46969d94f82b",
   "metadata": {
    "jp-MarkdownHeadingCollapsed": true
   },
   "source": [
    "## feature selection"
   ]
  },
  {
   "cell_type": "code",
   "execution_count": 530,
   "id": "f56002e8-505b-464d-a720-71edc503aa84",
   "metadata": {},
   "outputs": [],
   "source": [
    "X = preprocessed_data_2\n",
    "y = data_no_missing_columns.iloc[X.index,-1]\n"
   ]
  },
  {
   "cell_type": "code",
   "execution_count": 531,
   "id": "09481cfb-3bae-4a49-9372-6cc3826440b2",
   "metadata": {},
   "outputs": [
    {
     "data": {
      "text/plain": [
       "Index([    0,     1,     2,     3,     4,     5,     6,    10,    11,    12,\n",
       "       ...\n",
       "       12895, 12896, 12897, 12898, 12900, 12901, 12902, 12903, 12904, 12905],\n",
       "      dtype='int64', length=11539)"
      ]
     },
     "execution_count": 531,
     "metadata": {},
     "output_type": "execute_result"
    }
   ],
   "source": [
    "X.index"
   ]
  },
  {
   "cell_type": "code",
   "execution_count": 534,
   "id": "985d276b-cee8-407a-b576-540d83fd0e74",
   "metadata": {},
   "outputs": [],
   "source": [
    "from sklearn.linear_model import LogisticRegression\n",
    "from sklearn.decomposition import PCA\n",
    "from sklearn.model_selection import train_test_split\n",
    "from sklearn.preprocessing import StandardScaler\n",
    "from sklearn.metrics import accuracy_score, confusion_matrix, f1_score\n",
    "\n",
    "# Assuming 'X' is your feature matrix and 'y' is your target variable\n",
    "# Replace 'X' and 'y' with the actual names of your features and target\n",
    "\n",
    "# Split the data into training and testing sets\n",
    "X_train, X_test, y_train, y_test = train_test_split(X, y, test_size=0.2, random_state=42)\n",
    "\n",
    "# Standardize the features (important for Lasso regression)\n",
    "scaler = StandardScaler()\n",
    "X_train_scaled = scaler.fit_transform(X_train)\n",
    "X_test_scaled = scaler.transform(X_test)\n",
    "\n",
    "\n",
    "# Create and fit the Lasso regression model\n",
    "  # You can adjust this parameter\n",
    "alpha_value = 0.01  # You can adjust this parameter\n",
    "lasso_model = Lasso(alpha=alpha_value)\n",
    "lasso_model.fit(X_train_scaled, y_train)\n",
    "\n",
    "# Get feature coefficients and perform feature selection\n",
    "selected_features = np.where(lasso_model.coef_ != 0)[0]\n",
    "selected_feature_names = X.columns[selected_features]\n",
    "\n"
   ]
  },
  {
   "cell_type": "code",
   "execution_count": 538,
   "id": "82b6f058-d352-4977-a2ec-a7b30f1fb39e",
   "metadata": {
    "scrolled": true
   },
   "outputs": [
    {
     "data": {
      "text/plain": [
       "Index(['patient_zip3', 'patient_age', 'breast_cancer_diagnosis_code',\n",
       "       'breast_cancer_diagnosis_desc', 'metastatic_cancer_diagnosis_code',\n",
       "       'widowed', 'home_value', 'education_bachelors', 'commute_time',\n",
       "       'health_uninsured'],\n",
       "      dtype='object')"
      ]
     },
     "execution_count": 538,
     "metadata": {},
     "output_type": "execute_result"
    }
   ],
   "source": [
    "selected_feature_names"
   ]
  },
  {
   "cell_type": "markdown",
   "id": "11cb39ee-8aff-4117-bc64-4abc91d27f1d",
   "metadata": {},
   "source": [
    "#### Variance Inflation Factors"
   ]
  },
  {
   "cell_type": "code",
   "execution_count": 544,
   "id": "aedf960f-4fc8-4ded-84e1-3fb192cbc2bd",
   "metadata": {},
   "outputs": [
    {
     "name": "stdout",
     "output_type": "stream",
     "text": [
      "                            Variable           VIF\n",
      "0                              const  7.764291e+10\n",
      "1                       patient_race  1.142439e+00\n",
      "2                         payer_type  1.277868e+00\n",
      "3                      patient_state  7.662701e+00\n",
      "4                       patient_zip3  8.638201e+00\n",
      "5                        patient_age  1.207717e+00\n",
      "6                                bmi  1.015259e+00\n",
      "7       breast_cancer_diagnosis_code  3.448392e+12\n",
      "8       breast_cancer_diagnosis_desc  3.448392e+12\n",
      "9   metastatic_cancer_diagnosis_code  1.052803e+00\n",
      "10                            Region  4.696327e+00\n",
      "11                          Division  3.084668e+00\n",
      "12                        population  2.434532e+02\n",
      "13                           density  1.615246e+01\n",
      "14                        age_median  7.212123e+01\n",
      "15                      age_under_10  6.784609e+03\n",
      "16                      age_10_to_19  1.166326e+04\n",
      "17                           age_20s  3.228601e+04\n",
      "18                           age_30s  1.695237e+04\n",
      "19                           age_40s  4.636634e+03\n",
      "20                           age_50s  8.216104e+03\n",
      "21                           age_60s  1.772656e+04\n",
      "22                           age_70s  1.292430e+04\n",
      "23                       age_over_80  4.746036e+03\n",
      "24                              male  1.996626e+07\n",
      "25                            female  1.996901e+07\n",
      "26                           married  6.829003e+05\n",
      "27                          divorced  4.865381e+04\n",
      "28                     never_married  7.566523e+05\n",
      "29                           widowed  2.397589e+04\n",
      "30                       family_size  9.129903e+00\n",
      "31                family_dual_income  1.577778e+01\n",
      "32           income_household_median  1.109275e+02\n",
      "33          income_household_under_5  1.017879e+04\n",
      "34          income_household_5_to_10  8.228163e+03\n",
      "35         income_household_10_to_15  1.376241e+04\n",
      "36         income_household_15_to_20  8.445542e+03\n",
      "37         income_household_20_to_25  7.699745e+03\n",
      "38         income_household_25_to_35  2.177206e+04\n",
      "39         income_household_35_to_50  2.994410e+04\n",
      "40         income_household_50_to_75  3.454100e+04\n",
      "41        income_household_75_to_100  1.492198e+04\n",
      "42       income_household_100_to_150  1.318770e+13\n",
      "43         income_household_150_over  4.503600e+14\n",
      "44       income_household_six_figure  7.211529e+12\n",
      "45          income_individual_median  4.004396e+01\n",
      "46                    home_ownership  2.306323e+01\n",
      "47                     housing_units  2.207085e+02\n",
      "48                        home_value  2.520276e+01\n",
      "49                       rent_median  3.668192e+01\n",
      "50                       rent_burden  4.036982e+00\n",
      "51         education_less_highschool  2.335859e+05\n",
      "52              education_highschool  5.319211e+05\n",
      "53            education_some_college  2.060045e+05\n",
      "54               education_bachelors  5.629500e+14\n",
      "55                education_graduate  4.842580e+13\n",
      "56        education_college_or_above  3.464307e+13\n",
      "57             education_stem_degree  2.833209e+00\n",
      "58         labor_force_participation  1.758023e+01\n",
      "59                 unemployment_rate  6.275032e+00\n",
      "60                     self_employed  7.831805e+00\n",
      "61                            farmer  3.996826e+00\n",
      "62                        race_white  2.931668e+06\n",
      "63                        race_black  1.469742e+06\n",
      "64                        race_asian  4.425510e+05\n",
      "65                       race_native  1.230333e+04\n",
      "66                      race_pacific  3.761185e+02\n",
      "67                        race_other  3.886417e+05\n",
      "68                     race_multiple  1.128828e+05\n",
      "69                          hispanic  3.746406e+01\n",
      "70                          disabled  9.423770e+00\n",
      "71                           poverty  3.230297e+01\n",
      "72                   limited_english  1.200032e+01\n",
      "73                      commute_time  6.146111e+00\n",
      "74                  health_uninsured  6.133880e+00\n",
      "75                           veteran  5.201948e+00\n",
      "76                             Ozone  2.921229e+00\n",
      "77                              PM25  3.293032e+00\n",
      "78                               N02  4.936477e+00\n"
     ]
    }
   ],
   "source": [
    "from statsmodels.stats.outliers_influence import variance_inflation_factor\n",
    "\n",
    "X = preprocessed_data_2\n",
    "# Add a constant term to the feature matrix for intercept\n",
    "X_with_constant = pd.concat([pd.Series(1, index=X.index, name='const'), X], axis=1)\n",
    "\n",
    "# Calculate VIF for each variable\n",
    "vif_data = pd.DataFrame()\n",
    "vif_data[\"Variable\"] = X_with_constant.columns\n",
    "vif_data[\"VIF\"] = [variance_inflation_factor(X_with_constant.values, i) for i in range(X_with_constant.shape[1])]\n",
    "\n",
    "# Print the VIF values\n",
    "print(vif_data)\n"
   ]
  }
 ],
 "metadata": {
  "kernelspec": {
   "display_name": "Python 3 (ipykernel)",
   "language": "python",
   "name": "python3"
  },
  "language_info": {
   "codemirror_mode": {
    "name": "ipython",
    "version": 3
   },
   "file_extension": ".py",
   "mimetype": "text/x-python",
   "name": "python",
   "nbconvert_exporter": "python",
   "pygments_lexer": "ipython3",
   "version": "3.10.13"
  }
 },
 "nbformat": 4,
 "nbformat_minor": 5
}
